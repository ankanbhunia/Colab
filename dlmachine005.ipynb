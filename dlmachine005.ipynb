{
  "nbformat": 4,
  "nbformat_minor": 0,
  "metadata": {
    "colab": {
      "name": "dlmachine005.ipynb",
      "provenance": [],
      "collapsed_sections": []
    },
    "kernelspec": {
      "name": "python3",
      "display_name": "Python 3"
    },
    "accelerator": "GPU"
  },
  "cells": [
    {
      "cell_type": "markdown",
      "metadata": {
        "id": "A5aCn_f05xr5",
        "colab_type": "text"
      },
      "source": [
        "<a href=\"https://colab.research.google.com/github/ankanbhunia/Colab/blob/master/dlmachine005.ipynb\" target=\"_parent\"><img src=\"https://colab.research.google.com/assets/colab-badge.svg\" alt=\"Open In Colab\"/></a>"
      ]
    },
    {
      "cell_type": "code",
      "metadata": {
        "id": "okogwYyuMWeS",
        "colab_type": "code",
        "cellView": "form",
        "colab": {}
      },
      "source": [
        "#@title Establish Connection to COLAB-GPU Server\n",
        "########## Config ############\n",
        "\n",
        "#us - United States (Ohio)\n",
        "#eu - Europe (Frankfurt)\n",
        "#ap - Asia/Pacific (Singapore)\n",
        "#au - Australia (Sydney)\n",
        "#sa - South America (Sao Paulo)\n",
        "#jp - Japan (Tokyo)\n",
        "#in - India (Mumbai)\n",
        "\n",
        "ngrok_auth = '1WCAgfwXZ17s2cP3FH436T7EWVD_3pjaC3ACog9rFasDNLGw2' # https://dashboard.ngrok.com/auth\n",
        "country = 'in'\n",
        "secret_password = '1234'\n",
        "rsa_public_key = 'ssh-rsa AAAAB3NzaC1yc2EAAAADAQABAAABAQDQI4YbUEKNdPtOArL8IkvX+0czKjsQbfX793WdGYASNBsc5+OsdEakBXACvn8KuthVGbxffyMTEkX1wwNIZri2i80P6nGJY+dwlplzpOOR6oD3MFvclN+MxNhUQlc6SBYsvnpal+nIG3pi+u7LBp/YZDt9dlHltt/4H2mRpicj6p5nJ5GiLBMIz4/Twdsw5Zin6paTqia1PhbzgvVXoryEZEd+IZQvclJ9LCvJzNzPiOdlEFjNYGDTCwrKp2amjsWPhvwj2HmGck/JutKaksCkz5B6LlTK5UojAQ5pklyrgMcurjgMuQ7h1t6XCmz0w1vvBEKE5Fcpt3AIfMlbo6u/ ankan@DESKTOP-M0QFG1M'\n",
        "\n",
        "Mount_Drive = True #\n",
        "Mount_SDK = True #\n",
        "bucket_name = 'datadisks' # will not be used if Mount_SDK = False #\n",
        "Install_Libraries = True #\n",
        "Start_SSH = True #\n",
        "\n",
        "########## Config ############\n",
        "\n",
        "\n",
        "\n",
        "print (\"############################## GPU Specification ######################################\\n\")\n",
        "get_ipython().system_raw('pip install gpustat')\n",
        "!gpustat --color\n",
        "print ('\\n.....................................................................................\\n')\n",
        "\n",
        "\n",
        "if Mount_Drive:\n",
        "  print (\"############################## Mounting Google Drive ##################################\\n\")\n",
        "  from google.colab import drive\n",
        "  drive.mount('/Drive')\n",
        "  get_ipython().system_raw('ln -s \"/Drive/My Drive/\" \"/content/Drive\"')\n",
        "  print ('\\n.....................................................................................\\n')\n",
        "\n",
        "if Mount_SDK:\n",
        "  print (\"########################### Mounting Google SDK Storage ###############################\\n\")\n",
        "  from google.colab import auth\n",
        "  auth.authenticate_user()\n",
        "  get_ipython().system_raw('wget https://github.com/GoogleCloudPlatform/gcsfuse/releases/download/v0.27.0/gcsfuse_0.27.0_amd64.deb -O /tmp/gcsfuse_0.27.0_amd64.deb')\n",
        "  get_ipython().system_raw('sudo dpkg --install /tmp/gcsfuse_0.27.0_amd64.deb')\n",
        "  get_ipython().system_raw('mkdir -p Datasets')\n",
        "  get_ipython().system_raw('gcsfuse '+bucket_name+' Datasets')\n",
        "  print ('Mounted at /Datasets')\n",
        "  print ('\\n.....................................................................................\\n')\n",
        "\n",
        "\n",
        "\n",
        "if Install_Libraries:\n",
        "  \n",
        "  print (\"######################### Installing Necessary Libraries ##############################\\n\")\n",
        "  get_ipython().system_raw('git clone https://github.com/ankanbhunia/Colab.git /tmp/Colab');exec(open('/tmp/Colab/Colab Tools/Colabstart.py').read()); exec(open('/tmp/Colab/Colab Tools/helper.py').read()); get_ipython().system_raw('python \"/tmp/Colab/Colab Tools/trash.py\" &')\n",
        "  print ('\\n.....................................................................................\\n')\n",
        "\n",
        "if Start_SSH:\n",
        "  print (\"######################### Establishing SSH connection #################################\\n\")\n",
        "\n",
        "  !mkdir /root/.ssh\n",
        "  with open(\"/root/.ssh/authorized_keys\", 'w') as f:\n",
        "    f.write(rsa_public_key)\n",
        "  !chmod 700 /root/.ssh\n",
        "  !chmod 600 /root/.ssh/authorized_keys\n",
        "  get_ipython().system_raw('pip install git+https://github.com/ankanbhunia/remocolab.git')\n",
        "  import remocolab; remocolab.setupVNC(ngrok_auth,country,secret_password)\n",
        "  print ('\\n.....................................................................................\\n')\n",
        "\n",
        "while True:\n",
        "  if input(\"Press Y to exit.\") == 'Y':\n",
        "    break"
      ],
      "execution_count": 0,
      "outputs": []
    }
  ]
}