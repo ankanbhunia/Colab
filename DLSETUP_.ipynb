{
  "nbformat": 4,
  "nbformat_minor": 0,
  "metadata": {
    "colab": {
      "name": "DLSETUP.ipynb",
      "version": "0.3.2",
      "provenance": [],
      "collapsed_sections": []
    },
    "kernelspec": {
      "name": "python3",
      "display_name": "Python 3"
    },
    "accelerator": "GPU"
  },
  "cells": [
    {
      "cell_type": "markdown",
      "metadata": {
        "id": "view-in-github",
        "colab_type": "text"
      },
      "source": [
        "[View in Colaboratory](https://colab.research.google.com/github/ankanbhunia/Colab/blob/master/DLSETUP_.ipynb)"
      ]
    },
    {
      "metadata": {
        "id": "5gQOGoczaF6V",
        "colab_type": "code",
        "colab": {
          "base_uri": "https://localhost:8080/",
          "height": 35
        },
        "outputId": "b49623ee-511e-4ed7-8356-27904ca69c76"
      },
      "cell_type": "code",
      "source": [
        "#@title Run GPU Machines { vertical-output: true }\n",
        "Initialize = True #@param {type:\"boolean\"}\n",
        "Install_Packages = True #@param {type:\"boolean\"}\n",
        "Check_GPU = False #@param {type:\"boolean\"}\n",
        "Remove_Trashes = False #@param {type:\"boolean\"}\n",
        "Get_Jupyter_URL = False #@param {type:\"boolean\"}\n",
        "Server = \"ngrok\" #@param [\"localtunnel\", \"ngrok\"]\n",
        "Domain = \"\" #@param {type:\"string\"}\n",
        "if Initialize:\n",
        "  get_ipython().system_raw('git clone https://github.com/ankanbhunia/Colab.git Colab; cp Colab/* . ;rm -r Colab')\n",
        "  exec(open('Colabstart.py').read())\n",
        "if Install_Packages:\n",
        "  load()\n",
        "if Check_GPU:\n",
        "  import tensorflow as tf\n",
        "  print ('Available GPU : '+tf.test.gpu_device_name())\n",
        "if Remove_Trashes:\n",
        "  get_ipython().system_raw('python trash.py &')\n",
        "if Get_Jupyter_URL:\n",
        "  if Server == 'localtunnel':\n",
        "    localtunnel(Domain)\n",
        "  elif Server == 'ngrok':\n",
        "    ngrok()\n"
      ],
      "execution_count": 3,
      "outputs": [
        {
          "output_type": "stream",
          "text": [
            "100%|██████████| 24/24 [01:13<00:00,  3.08s/it]\n"
          ],
          "name": "stderr"
        }
      ]
    },
    {
      "metadata": {
        "id": "pNo8DFy3ftcG",
        "colab_type": "code",
        "colab": {}
      },
      "cell_type": "code",
      "source": [
        "#@title Unzip dataset\n",
        "path = \"Cycle/horse2zebra.zip\" #@param {type:\"string\"}\n",
        "import os\n",
        "if os.path.isfile(path):\n",
        "  if path.endswith('zip'):\n",
        "    get_ipython().system_raw('unzip '+ path)\n",
        "\n",
        "  if path.endswith('rar'):\n",
        "    get_ipython().system_raw('unrar x  '+ path)\n"
      ],
      "execution_count": 0,
      "outputs": []
    },
    {
      "metadata": {
        "id": "Yi-UdrGkdH92",
        "colab_type": "code",
        "colab": {
          "base_uri": "https://localhost:8080/",
          "height": 166
        },
        "outputId": "7ba2caa7-e189-4d15-a661-129f0d92fa45"
      },
      "cell_type": "code",
      "source": [
        "Show_GPU_usage = True #@param {type:\"boolean\"}\n",
        "Show_Running_Programs = True #@param {type:\"boolean\"}\n",
        "\n",
        "if Show_GPU_usage:\n",
        "  try:\n",
        "    print ('GPU Usage : '+ get_ipython().getoutput('gpustat')[1])\n",
        "  except:\n",
        "    print ('No GPU')\n",
        "print('')\n",
        "if Show_Running_Programs:\n",
        "  print ('Running Programs : ')\n",
        "  print(task())"
      ],
      "execution_count": 7,
      "outputs": [
        {
          "output_type": "stream",
          "text": [
            "GPU Usage : [0] Tesla K80        | 43'C,  93 % | 11033 / 11439 MB |\n",
            "\n",
            "Running Programs : \n",
            "    PID   memory      time           process\n",
            "1    89    56616  00:00:02  /usr/bin/python2\n",
            "2    97   144300  00:00:05  /usr/bin/python3\n",
            "3  1603   739204  00:00:22  /usr/bin/python2\n",
            "4  3079  2043464  00:22:14  /usr/bin/python3\n"
          ],
          "name": "stdout"
        }
      ]
    },
    {
      "metadata": {
        "id": "aMUlt4NJaKNK",
        "colab_type": "code",
        "colab": {
          "base_uri": "https://localhost:8080/",
          "height": 34
        },
        "outputId": "afe8b533-d685-4472-b599-11ac27407797"
      },
      "cell_type": "code",
      "source": [
        "#@title Kill Process\n",
        "PID = \"55\" #@param {type:\"string\"}\n",
        "get_ipython().getoutput('kill '+str(PID))"
      ],
      "execution_count": 0,
      "outputs": [
        {
          "output_type": "execute_result",
          "data": {
            "text/plain": [
              "['/bin/bash: line 0: kill: (55) - No such process']"
            ]
          },
          "metadata": {
            "tags": []
          },
          "execution_count": 5
        }
      ]
    },
    {
      "metadata": {
        "id": "4VjJ5HAGedkW",
        "colab_type": "code",
        "colab": {}
      },
      "cell_type": "code",
      "source": [
        "\n",
        "Reset_All = True #@param {type:\"boolean\"}\n",
        "if Reset_All:\n",
        "  get_ipython().getoutput('kill -9 -1')"
      ],
      "execution_count": 0,
      "outputs": []
    },
    {
      "metadata": {
        "id": "lhifxDHumfmm",
        "colab_type": "code",
        "colab": {}
      },
      "cell_type": "code",
      "source": [
        "\n",
        "\n",
        "def _activation_summary(x):\n",
        "  \n",
        "    tensor_name = re.sub('%s_[0-9]*/' % 'mp', '', x.op.name)\n",
        "    tf.summary.histogram(tensor_name + '/activations', x)\n",
        "    tf.summary.scalar(tensor_name + '/sparsity', tf.nn.zero_fraction(x))\n",
        "\n",
        "\n",
        "def _variable_on_cpu(name, shape, initializer):\n",
        "\n",
        "    with tf.device('/cpu:0'):\n",
        "        var = tf.get_variable(name, shape, initializer=initializer)\n",
        "\n",
        "    return var\n",
        "\n",
        "\n",
        "def _variable_with_weight_decay(name, shape, stddev, wd):\n",
        "\n",
        "    var = _variable_on_cpu(name, shape, tf.random_normal_initializer(stddev=stddev))\n",
        "    if wd:\n",
        "        weight_decay = tf.multiply(tf.nn.l2_loss(var), wd, name='weight_loss')\n",
        "        tf.add_to_collection('losses', weight_decay)\n",
        "\n",
        "    return var\n",
        "  \n",
        "class BatchNorm(object):\n",
        "\n",
        "    def __init__(self, epsilon=1e-5, momentum=0.9, name=\"batch_norm\"):\n",
        "\n",
        "      with tf.variable_scope(name):\n",
        "          self.epsilon = epsilon\n",
        "          self.momentum = momentum\n",
        "          self.name = name\n",
        "\n",
        "    def __call__(self, x):\n",
        "\n",
        "        return tf.contrib.layers.batch_norm(x, decay=self.momentum, updates_collections=None,\n",
        "                                            epsilon=self.epsilon, scale=True, scope=self.name)\n"
      ],
      "execution_count": 0,
      "outputs": []
    },
    {
      "metadata": {
        "id": "JIaJvJl2kcAC",
        "colab_type": "code",
        "colab": {}
      },
      "cell_type": "code",
      "source": [
        "\n",
        "def multi_scale_block(in_con, in_dim, out_dim, is_bn=False):\n",
        "\n",
        "    with tf.variable_scope('con_9') as scope:\n",
        "        kernel = _variable_with_weight_decay('weights', shape=[9, 9, in_dim, out_dim],\n",
        "                                             stddev=0.01, wd=0.0005)\n",
        "        con_9 = tf.nn.conv2d(in_con, kernel, [1, 1, 1, 1], padding='SAME', name=scope.name)\n",
        "        _activation_summary(con_9)\n",
        "\n",
        "    with tf.variable_scope('con_7') as scope:\n",
        "        kernel = _variable_with_weight_decay('weights', shape=[7, 7, in_dim, out_dim],\n",
        "                                             stddev=0.01, wd=0.0005)\n",
        "        con_7 = tf.nn.conv2d(in_con, kernel, [1, 1, 1, 1], padding='SAME', name=scope.name)\n",
        "        _activation_summary(con_7)\n",
        "\n",
        "    with tf.variable_scope('con_5') as scope:\n",
        "        kernel = _variable_with_weight_decay('weights', shape=[5, 5, in_dim, out_dim],\n",
        "                                             stddev=0.01, wd=0.0005)\n",
        "        con_5 = tf.nn.conv2d(in_con, kernel, [1, 1, 1, 1], padding='SAME', name=scope.name)\n",
        "        _activation_summary(con_5)\n",
        "\n",
        "    with tf.variable_scope('con_3') as scope:\n",
        "        kernel = _variable_with_weight_decay('weights', shape=[3, 3, in_dim, out_dim],\n",
        "                                             stddev=0.01, wd=0.0005)\n",
        "        con_3 = tf.nn.conv2d(in_con, kernel, [1, 1, 1, 1], padding='SAME', name=scope.name)\n",
        "        _activation_summary(con_3)\n",
        "\n",
        "    with tf.variable_scope('concat') as scope:\n",
        "        concat = tf.concat([con_9, con_7, con_5, con_3], 3, name=scope.name)\n",
        "        biases = _variable_on_cpu('biases', [out_dim * 4], tf.constant_initializer(0))\n",
        "        bias = tf.nn.bias_add(concat, biases)\n",
        "\n",
        "        if is_bn:\n",
        "            bn = BatchNorm()\n",
        "            bias = bn(bias)\n",
        "\n",
        "        msb = tf.nn.relu(bias)\n",
        "        _activation_summary(msb)\n",
        "\n",
        "    return msb\n",
        "\n"
      ],
      "execution_count": 0,
      "outputs": []
    },
    {
      "metadata": {
        "id": "_3f4lAWpkcx8",
        "colab_type": "code",
        "colab": {}
      },
      "cell_type": "code",
      "source": [
        "def inference_bn(images):\n",
        "    \n",
        "    with tf.variable_scope('con1') as scope:\n",
        "        kernel = _variable_with_weight_decay('weights', shape=[9, 9, 3, 64],\n",
        "                                             stddev=0.01, wd=0.0005)\n",
        "        con = tf.nn.conv2d(images, kernel, [1, 1, 1, 1], padding='SAME', name=scope.name)\n",
        "        biases = _variable_on_cpu('biases', [64], tf.constant_initializer(0))\n",
        "        bias = tf.nn.bias_add(con, biases)\n",
        "        con1 = tf.nn.relu(bias)\n",
        "        _activation_summary(con1)\n",
        "\n",
        "    # msb_con2\n",
        "    with tf.variable_scope('msb_con2'):\n",
        "        msb_con2 = multi_scale_block(con1, 64, 16, is_bn=True)\n",
        "\n",
        "    # pool_msb_con2\n",
        "    with tf.variable_scope('pool_msb_con2') as scope:\n",
        "        pool_msb_con2 = tf.nn.max_pool(msb_con2, ksize=[1, 2, 2, 1], strides=[1, 2, 2, 1], padding='SAME',\n",
        "                                       name=scope.name)\n",
        "\n",
        "    # msb_con3\n",
        "    with tf.variable_scope('msb_con3'):\n",
        "        msb_con3 = multi_scale_block(pool_msb_con2, 64, 32, is_bn=True)\n",
        "\n",
        "    # msb_con4\n",
        "    with tf.variable_scope('msb_con4'):\n",
        "        msb_con4 = multi_scale_block(msb_con3, 128, 32, is_bn=True)\n",
        "\n",
        "    # pool_msb_con4\n",
        "    with tf.variable_scope('pool_msb_con4') as scope:\n",
        "        pool_msb_con4 = tf.nn.max_pool(msb_con4, ksize=[1, 2, 2, 1], strides=[1, 2, 2, 1], padding='SAME',\n",
        "                                       name=scope.name)\n",
        "\n",
        "    # msb_con5\n",
        "    with tf.variable_scope('msb_con5'):\n",
        "        msb_con5 = multi_scale_block(pool_msb_con4, 128, 64, is_bn=True)\n",
        "\n",
        "    # msb_con6\n",
        "    with tf.variable_scope('msb_con6'):\n",
        "        msb_con6 = multi_scale_block(msb_con5, 256, 64, is_bn=True)\n",
        "\n",
        "    # mpl_con7\n",
        "    with tf.variable_scope('mpl_con7') as scope:\n",
        "        kernel = _variable_with_weight_decay('weights', shape=[1, 1, 256, 1000], stddev=0.001, wd=0.0005)\n",
        "        con = tf.nn.conv2d(msb_con6, kernel, [1, 1, 1, 1], padding='SAME', name=scope.name)\n",
        "        biases = _variable_on_cpu('biases', [1000], tf.constant_initializer(0))\n",
        "        bias = tf.nn.bias_add(con, biases)\n",
        "        mpl_con7 = tf.nn.relu(bias)\n",
        "        _activation_summary(mpl_con7)\n",
        "\n",
        "    # con_out\n",
        "    with tf.variable_scope('con_out') as scope:\n",
        "        kernel = _variable_with_weight_decay('weights', shape=[1, 1, 1000, 1], stddev=0.001, wd=0.0005)\n",
        "        con = tf.nn.conv2d(mpl_con7, kernel, [1, 1, 1, 1], padding='SAME', name=scope.name)\n",
        "        biases = _variable_on_cpu('biases', [1], tf.constant_initializer(0))\n",
        "        bias = tf.nn.bias_add(con, biases)\n",
        "\n",
        "        bn = BatchNorm()\n",
        "        bias = bn(bias)\n",
        "\n",
        "        con_out = tf.nn.relu(tf.nn.sigmoid(bias))\n",
        "        _activation_summary(con_out)\n",
        "\n",
        "    image_out = con_out\n",
        "\n",
        "    tf.summary.image(\"con_img\", image_out)\n",
        "\n",
        "    return image_out"
      ],
      "execution_count": 0,
      "outputs": []
    }
  ]
}