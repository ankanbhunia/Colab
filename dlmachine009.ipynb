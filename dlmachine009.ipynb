{
  "nbformat": 4,
  "nbformat_minor": 0,
  "metadata": {
    "colab": {
      "name": "dlmachine009.ipynb",
      "provenance": [],
      "collapsed_sections": []
    },
    "kernelspec": {
      "name": "python3",
      "display_name": "Python 3"
    },
    "accelerator": "GPU"
  },
  "cells": [
    {
      "cell_type": "markdown",
      "metadata": {
        "id": "A5aCn_f05xr5",
        "colab_type": "text"
      },
      "source": [
        "<a href=\"https://colab.research.google.com/github/ankanbhunia/Colab/blob/master/dlmachine009.ipynb\" target=\"_parent\"><img src=\"https://colab.research.google.com/assets/colab-badge.svg\" alt=\"Open In Colab\"/></a>"
      ]
    },
    {
      "cell_type": "code",
      "metadata": {
        "id": "okogwYyuMWeS",
        "colab_type": "code",
        "cellView": "form",
        "colab": {}
      },
      "source": [
        "#@title Establish Connection to COLAB-GPU Server\n",
        "########## Config ############\n",
        "\n",
        "#us - United States (Ohio)\n",
        "#eu - Europe (Frankfurt)\n",
        "#ap - Asia/Pacific (Singapore)\n",
        "#au - Australia (Sydney)\n",
        "#sa - South America (Sao Paulo)\n",
        "#jp - Japan (Tokyo)\n",
        "#in - India (Mumbai)\n",
        "\n",
        "ngrok_auth = 'V9tENk1WFhMZvSbS7ZiH_6q4ge2TsQaaLdDejtQE8D' # https://dashboard.ngrok.com/auth\n",
        "country = 'in'\n",
        "secret_password = '1234'\n",
        "\n",
        "########## Config ############\n",
        "\n",
        "\n",
        "Mount_Drive = True #@param {type:\"boolean\"}\n",
        "Install_Libraries = True #@param {type:\"boolean\"}\n",
        "Start_SSH = True #@param {type:\"boolean\"}\n",
        "\n",
        "get_ipython().system_raw('pip install gpustat')\n",
        "print (\"############################## GPU Specification ######################################\\n\")\n",
        "!gpustat --color\n",
        "print ('\\n.....................................................................................\\n')\n",
        "\n",
        "\n",
        "if Mount_Drive:\n",
        "  print (\"############################## Mounting Google Drive ##################################\\n\")\n",
        "  from google.colab import drive\n",
        "  drive.mount('/drive')\n",
        "  get_ipython().system_raw('ln -s \"/drive/My Drive/\" \"/content/Drive\"')\n",
        "  print ('\\n.....................................................................................\\n')\n",
        "\n",
        "if Install_Libraries:\n",
        "  print (\"######################### Installing Necessary Libraries ##############################\\n\")\n",
        "  get_ipython().system_raw('git clone https://github.com/ankanbhunia/Colab.git Colab; cp Colab/* . ;rm -r Colab'); exec(open('Colabstart.py').read());exec(open('helper.py').read()); get_ipython().system_raw('python trash.py &')\n",
        "  print ('\\n.....................................................................................\\n')\n",
        "\n",
        "if Start_SSH:\n",
        "  print (\"######################### Establishing SSH connection #################################\\n\")\n",
        "  get_ipython().system_raw('pip install git+https://github.com/ankanbhunia/remocolab.git')\n",
        "  import remocolab; remocolab.setupVNC(ngrok_auth,country,secret_password)\n",
        "  print ('\\n.....................................................................................\\n')\n",
        "\n",
        "while True:\n",
        "  if input(\"Press Y to exit.\") == 'Y':\n",
        "    break"
      ],
      "execution_count": 0,
      "outputs": []
    }
  ]
}