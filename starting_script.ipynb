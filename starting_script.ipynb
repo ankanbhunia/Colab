{
  "nbformat": 4,
  "nbformat_minor": 0,
  "metadata": {
    "colab": {
      "name": "Untitled0.ipynb",
      "version": "0.3.2",
      "views": {},
      "default_view": {},
      "provenance": [],
      "collapsed_sections": []
    },
    "kernelspec": {
      "name": "python3",
      "display_name": "Python 3"
    },
    "accelerator": "GPU"
  },
  "cells": [
    {
      "metadata": {
        "id": "5gQOGoczaF6V",
        "colab_type": "code",
        "colab": {
          "autoexec": {
            "startup": false,
            "wait_interval": 0
          }
        },
        "cellView": "form"
      },
      "cell_type": "code",
      "source": [
        "#@title Run GPU Machines { vertical-output: true }\n",
        "Initialize = True #@param {type:\"boolean\"}\n",
        "Install_Packages = False #@param {type:\"boolean\"}\n",
        "Check_GPU = False #@param {type:\"boolean\"}\n",
        "Remove_Trashes = False #@param {type:\"boolean\"}\n",
        "Get_Jupyter_URL = False #@param {type:\"boolean\"}\n",
        "Server = \"localtunnel\" #@param [\"localtunnel\", \"ngrok\"]\n",
        "Domain = \"\" #@param {type:\"string\"}\n",
        "if Initialize:\n",
        "  get_ipython().system_raw('git clone https://github.com/ankanbhunia/Colab.git Colab; cp Colab/* . ;rm -r Colab')\n",
        "  exec(open('Colabstart.py').read())\n",
        "if Install_Packages:\n",
        "  load()\n",
        "if Check_GPU:\n",
        "  import tensorflow as tf\n",
        "  print ('Available GPU : '+tf.test.gpu_device_name())\n",
        "if Remove_Trashes:\n",
        "  get_ipython().system_raw('python trash.py &')\n",
        "if Get_Jupyter_URL:\n",
        "  if Server == 'localtunnel':\n",
        "    localtunnel(domain)\n",
        "  elif Server == 'ngrok':\n",
        "    ngrok()\n"
      ],
      "execution_count": 0,
      "outputs": []
    },
    {
      "metadata": {
        "id": "pNo8DFy3ftcG",
        "colab_type": "code",
        "colab": {
          "autoexec": {
            "startup": false,
            "wait_interval": 0
          },
          "base_uri": "https://localhost:8080/",
          "height": 68
        },
        "cellView": "form",
        "outputId": "1d5b6ac8-9fd6-4759-a1d3-a2182d77df49",
        "executionInfo": {
          "status": "ok",
          "timestamp": 1527154584658,
          "user_tz": -330,
          "elapsed": 7947,
          "user": {
            "displayName": "Ankan Bhunia",
            "photoUrl": "https://lh3.googleusercontent.com/a/default-user=s128",
            "userId": "107986988238767023148"
          }
        }
      },
      "cell_type": "code",
      "source": [
        "#@title Unzip dataset\n",
        "path = \"drive/datasets/Script.zip\" #@param {type:\"string\"}\n",
        "import os\n",
        "if os.path.isfile(path):\n",
        "  if path.endswith('zip'):\n",
        "    get_ipython().system_raw('unzip '+ path)\n",
        "\n",
        "  if path.endswith('rar'):\n",
        "    get_ipython().system_raw('unrar x  '+ path)\n"
      ],
      "execution_count": 18,
      "outputs": [
        {
          "output_type": "stream",
          "text": [
            "\n",
            "KeyboardInterrupt\n",
            "\n"
          ],
          "name": "stderr"
        }
      ]
    },
    {
      "metadata": {
        "id": "Yi-UdrGkdH92",
        "colab_type": "code",
        "colab": {
          "autoexec": {
            "startup": false,
            "wait_interval": 0
          },
          "base_uri": "https://localhost:8080/",
          "height": 119
        },
        "cellView": "form",
        "outputId": "ff15b6b4-9262-4c25-9e70-417840643271",
        "executionInfo": {
          "status": "ok",
          "timestamp": 1527154927711,
          "user_tz": -330,
          "elapsed": 1219,
          "user": {
            "displayName": "Ankan Bhunia",
            "photoUrl": "https://lh3.googleusercontent.com/a/default-user=s128",
            "userId": "107986988238767023148"
          }
        }
      },
      "cell_type": "code",
      "source": [
        "Show_GPU_usage = True #@param {type:\"boolean\"}\n",
        "Show_Running_Programs = True #@param {type:\"boolean\"}\n",
        "\n",
        "if Show_GPU_usage:\n",
        "  try:\n",
        "    print ('GPU Usage : '+ get_ipython().getoutput('gpustat')[1])\n",
        "  except:\n",
        "    print ('No GPU')\n",
        "print('')\n",
        "if Show_Running_Programs:\n",
        "  print ('Running Programs : ')\n",
        "  print(task())"
      ],
      "execution_count": 4,
      "outputs": [
        {
          "output_type": "stream",
          "text": [
            "No GPU\n",
            "\n",
            "Running Programs : \n",
            "  PID  memory      time           process\n",
            "1  89   54892  00:00:00  /usr/bin/python2\n",
            "2  97  143724  00:00:02  /usr/bin/python3\n"
          ],
          "name": "stdout"
        }
      ]
    },
    {
      "metadata": {
        "id": "aMUlt4NJaKNK",
        "colab_type": "code",
        "colab": {
          "autoexec": {
            "startup": false,
            "wait_interval": 0
          },
          "base_uri": "https://localhost:8080/",
          "height": 34
        },
        "cellView": "form",
        "outputId": "afe8b533-d685-4472-b599-11ac27407797",
        "executionInfo": {
          "status": "ok",
          "timestamp": 1527154947861,
          "user_tz": -330,
          "elapsed": 1120,
          "user": {
            "displayName": "Ankan Bhunia",
            "photoUrl": "https://lh3.googleusercontent.com/a/default-user=s128",
            "userId": "107986988238767023148"
          }
        }
      },
      "cell_type": "code",
      "source": [
        "#@title Kill Process\n",
        "PID = \"55\" #@param {type:\"string\"}\n",
        "get_ipython().getoutput('kill '+str(PID))"
      ],
      "execution_count": 5,
      "outputs": [
        {
          "output_type": "execute_result",
          "data": {
            "text/plain": [
              "['/bin/bash: line 0: kill: (55) - No such process']"
            ]
          },
          "metadata": {
            "tags": []
          },
          "execution_count": 5
        }
      ]
    },
    {
      "metadata": {
        "id": "4VjJ5HAGedkW",
        "colab_type": "code",
        "colab": {
          "autoexec": {
            "startup": false,
            "wait_interval": 0
          }
        },
        "cellView": "form"
      },
      "cell_type": "code",
      "source": [
        "\n",
        "Reset_All = True #@param {type:\"boolean\"}\n",
        "if Reset_All:\n",
        "  get_ipython().getoutput('kill -9 -1')"
      ],
      "execution_count": 0,
      "outputs": []
    }
  ]
}