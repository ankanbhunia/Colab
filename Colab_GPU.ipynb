{
  "nbformat": 4,
  "nbformat_minor": 0,
  "metadata": {
    "colab": {
      "name": "Colab_GPU.ipynb",
      "provenance": [],
      "collapsed_sections": []
    },
    "kernelspec": {
      "name": "python3",
      "display_name": "Python 3"
    },
    "accelerator": "GPU"
  },
  "cells": [
    {
      "cell_type": "code",
      "metadata": {
        "id": "okogwYyuMWeS",
        "colab_type": "code",
        "cellView": "form",
        "outputId": "0d00be97-5afa-48ab-d229-4e351642676f",
        "colab": {
          "base_uri": "https://localhost:8080/",
          "height": 341
        }
      },
      "source": [
        "#@title Establish Connection to COLAB-GPU Server\n",
        "########## Config ############\n",
        "\n",
        "#us - United States (Ohio)\n",
        "#eu - Europe (Frankfurt)\n",
        "#ap - Asia/Pacific (Singapore)\n",
        "#au - Australia (Sydney)\n",
        "#sa - South America (Sao Paulo)\n",
        "#jp - Japan (Tokyo)\n",
        "#in - India (Mumbai)\n",
        "\n",
        "ngrok_auth = '6HHRoYsgJ7hpZJvcF8syH_7aVenWciJrBDtUYkss7Mh' # https://dashboard.ngrok.com/auth\n",
        "country = 'in'\n",
        "secret_password = '1234'\n",
        "\n",
        "########## Config ############\n",
        "\n",
        "\n",
        "Mount_Drive = True #@param {type:\"boolean\"}\n",
        "Install_Libraries = True #@param {type:\"boolean\"}\n",
        "Start_SSH = True #@param {type:\"boolean\"}\n",
        "\n",
        "get_ipython().system_raw('pip install gpustat')\n",
        "print (\"############################## GPU Specification ######################################\\n\")\n",
        "!gpustat --color\n",
        "print ('\\n.....................................................................................\\n')\n",
        "\n",
        "\n",
        "if Mount_Drive:\n",
        "  print (\"############################## Mounting Google Drive ##################################\\n\")\n",
        "  from google.colab import drive\n",
        "  drive.mount('/drive')\n",
        "  get_ipython().system_raw('ln -s \"/drive/My Drive/\" \"/content/Drive\"')\n",
        "  print ('\\n.....................................................................................\\n')\n",
        "\n",
        "if Install_Libraries:\n",
        "  print (\"######################### Installing Necessary Libraries ##############################\\n\")\n",
        "  get_ipython().system_raw('git clone https://github.com/ankanbhunia/Colab.git Colab; cp Colab/* . ;rm -r Colab'); exec(open('Colabstart.py').read());exec(open('helper.py').read()); get_ipython().system_raw('python trash.py &')\n",
        "  print ('\\n.....................................................................................\\n')\n",
        "\n",
        "if Start_SSH:\n",
        "  print (\"######################### Establishing SSH connection #################################\\n\")\n",
        "  get_ipython().system_raw('pip install git+https://github.com/ankanbhunia/remocolab.git')\n",
        "  import remocolab; remocolab.setupVNC(ngrok_auth,country,secret_password)\n",
        "  print ('\\n.....................................................................................\\n')\n",
        "\n",
        "while True:\n",
        "  if input(\"Press Y to exit.\") == 'Y':\n",
        "    break"
      ],
      "execution_count": 0,
      "outputs": [
        {
          "output_type": "stream",
          "text": [
            "################################ GPU Specification ####################################\n",
            "\n",
            "\u001b[1m\u001b[37m9bdfad2b9659       \u001b[0;10m  Wed Jan  8 15:02:01 2020  \u001b[1m\u001b[30m418.67\u001b[0;10m\n",
            "\u001b[36m[0]\u001b[0;10m \u001b[34mTesla T4        \u001b[0;10m |\u001b[1m\u001b[31m 52'C\u001b[0;10m, \u001b[32m  0 %\u001b[0;10m | \u001b[36m\u001b[1m\u001b[33m    0\u001b[0;10m / \u001b[33m15079\u001b[0;10m MB |\n",
            "\n",
            ".....................................................................................\n",
            "\n",
            "######################### Establishing SSH connection #################################\n",
            "\n",
            "(A) SSH server:->> [type the command in your terminal] \n",
            "ssh -o UserKnownHostsFile=/dev/null -o VisualHostKey=yes -p 17704 root@0.tcp.in.ngrok.io\n",
            "(B) VNC server:->> [Run the command for desktop interface. Then, open TurboVNC viewer and use the following password]\n",
            "ssh -o UserKnownHostsFile=/dev/null -o VisualHostKey=yes -L 5901:localhost:5901 -p 17704 root@0.tcp.in.ngrok.io\n",
            "VNC password: lKERYxoI\n",
            "VNC view only password: puqS_6fG\n",
            "\n",
            ".....................................................................................\n",
            "\n",
            "Press Y to exit.Y\n"
          ],
          "name": "stdout"
        }
      ]
    }
  ]
}