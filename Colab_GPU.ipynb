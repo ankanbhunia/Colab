{
  "nbformat": 4,
  "nbformat_minor": 0,
  "metadata": {
    "colab": {
      "name": "Copy of Colab_GPU.ipynb",
      "provenance": [],
      "collapsed_sections": []
    },
    "kernelspec": {
      "name": "python3",
      "display_name": "Python 3"
    },
    "accelerator": "GPU"
  },
  "cells": [
    {
      "cell_type": "markdown",
      "metadata": {
        "id": "A5aCn_f05xr5",
        "colab_type": "text"
      },
      "source": [
        "<a href=\"https://colab.research.google.com/github/ankanbhunia/Colab/blob/master/Colab_GPU.ipynb\" target=\"_parent\"><img src=\"https://colab.research.google.com/assets/colab-badge.svg\" alt=\"Open In Colab\"/></a>\n",
        "\n",
        "# Google Colaboratory All-in-1 Toolbox\n",
        "\n",
        "* The notebook is a single-click solution to run high-end deep learning codes in\n",
        "Google Colab.\n",
        "\n",
        "*  You can change the different parameters, ie. `ngrok_auth`, `country`, `secret_password` in the config section. First, you have to sign-in to  https://dashboard.ngrok.com/auth, then, copy the auth code and paste it after`ngrok_auth`. You can choose the `country` from various options like `us`,`eu`, `ap`, `au`, `sa`, `jp` and `in`. Then, choose a secret password, it will be later used for sudo login. \n",
        "\n",
        "\n",
        "* After running the shell, you will get `hostname`, `username` and `port`. Example: `Hostname` could be `0.tcp.in.ngrok.io`. `username` is `root`, as we will log in as root. \n",
        "Next, you can use [Visual Studio Code Insiders](https://code.visualstudio.com/insiders/) to code in a fancy looking desktop interface in your local computer utilizing the enormous GPU power of a remote server. In our case, remote server is Colab. You can easily connect the remote server by configuring ssh interpreter in the VScode. \n",
        "\n",
        "\n",
        "* You can also obtain a full desktop environment of the Colab instance running on your local machine. For that download [TurboVNC](https://www.turbovnc.org/). Use the VNC password obtained from this code to log in.\n",
        "\n",
        "\n",
        "\n",
        "\n"
      ]
    },
    {
      "cell_type": "code",
      "metadata": {
        "id": "okogwYyuMWeS",
        "colab_type": "code",
        "cellView": "form",
        "outputId": "350c0bbc-e114-4a9e-bf63-cbec51a7934c",
        "colab": {
          "base_uri": "https://localhost:8080/",
          "height": 17
        }
      },
      "source": [
        "\n",
        "########## Config ############\n",
        "\n",
        "#us - United States (Ohio)\n",
        "#eu - Europe (Frankfurt)\n",
        "#ap - Asia/Pacific (Singapore)\n",
        "#au - Australia (Sydney)\n",
        "#sa - South America (Sao Paulo)\n",
        "#jp - Japan (Tokyo)\n",
        "#in - India (Mumbai)\n",
        "\n",
        "ngrok_auth = '6HHRoYsgJ7hpZJvcF8syH_7aVenWciJrBDtUYkss7Mh' # https://dashboard.ngrok.com/auth\n",
        "country = 'in'\n",
        "secret_password = '1234'\n",
        "\n",
        "########## Config ############\n",
        "\n",
        "\n",
        "Mount_Drive = True #@param {type:\"boolean\"} \n",
        "Install_Libraries = True #@param {type:\"boolean\"}\n",
        "Start_SSH = True #@param {type:\"boolean\"}\n",
        "\n",
        "get_ipython().system_raw('pip install gpustat')\n",
        "print (\"############################## GPU Specification ######################################\\n\")\n",
        "!gpustat\n",
        "print ('\\n.....................................................................................\\n')\n",
        "\n",
        "\n",
        "if Mount_Drive:\n",
        "  print (\"############################## Mounting Google Drive ##################################\\n\")\n",
        "  from google.colab import drive\n",
        "  drive.mount('/drive')\n",
        "  get_ipython().system_raw('ln -s \"/drive/My Drive/\" \"/content/Drive\"')\n",
        "  print ('\\n.....................................................................................\\n')\n",
        "\n",
        "if Install_Libraries:\n",
        "  print (\"######################### Installing Necessary Libraries ##############################\\n\")\n",
        "  get_ipython().system_raw('git clone https://github.com/ankanbhunia/Colab.git /tmp/Colab');exec(open('/tmp/Colab/Colab Tools/Colabstart.py').read()); exec(open('/tmp/Colab/Colab Tools/helper.py').read()); get_ipython().system_raw('python \"/tmp/Colab/Colab Tools/trash.py\" &')\n",
        "  print ('\\n.....................................................................................\\n')\n",
        "\n",
        "if Start_SSH:\n",
        "  print (\"######################### Establishing SSH connection #################################\\n\")\n",
        "  get_ipython().system_raw('pip install git+https://github.com/ankanbhunia/remocolab.git')\n",
        "  import remocolab; remocolab.setupVNC(ngrok_auth,country,secret_password)\n",
        "  print ('\\n.....................................................................................\\n')\n",
        "\n",
        "while True:\n",
        "  if input(\"Press Y to exit.\") == 'Y':\n",
        "    break"
      ],
      "execution_count": 0,
      "outputs": [
        {
          "output_type": "stream",
          "text": [
            ""
          ],
          "name": "stdout"
        }
      ]
    }
  ]
}