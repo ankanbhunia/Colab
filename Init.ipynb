{
 "cells": [
  {
   "cell_type": "code",
   "execution_count": 7,
   "metadata": {},
   "outputs": [
    {
     "data": {
      "text/html": [
       "\n",
       "<div id=\"current_div\"></div>\n",
       "<script>\n",
       "  // Builds on\n",
       "// http://chris-said.io/2016/02/13/how-to-make-polished-jupyter-presentations-with-optional-code-visibility/\n",
       "// and\n",
       "// http://mindtrove.info/code-hiding-on-nbviewer/\n",
       "\n",
       "\n",
       "\n",
       "\"using strict\";\n",
       "\n",
       "\n",
       "window.hide_code_cells = function(){\n",
       "  $('div.input').hide('200');\n",
       "  $('div.prompt.output_prompt').delay('200').css('visibility', 'hidden');\n",
       "  $('div.out_prompt_overlay.prompt').delay('200').css('visibility', 'hidden');\n",
       "}\n",
       "\n",
       "window.show_code_cells = function(){\n",
       "  $('div.input').show('200');\n",
       "  $('div.prompt.output_prompt').delay('200').css('visibility', 'visible');\n",
       "  $('div.out_prompt_overlay.prompt').delay('200').css('visibility', 'visible');\n",
       "}\n",
       "\n",
       "\n",
       "window.toggle_code_cells_notebook = function() {\n",
       "    if (window.code_shown){\n",
       "        window.hide_code_cells();\n",
       "        $('#toggleButton').val('Show Code')\n",
       "    } else {\n",
       "        window.show_code_cells();\n",
       "        $('#toggleButton').val('Hide Code')\n",
       "    }\n",
       "    window.code_shown = !window.code_shown;\n",
       "}\n",
       "\n",
       "\n",
       "window.toggle_code_cells_nbviewer = function() {\n",
       "    if (window.code_shown){\n",
       "        window.hide_code_cells();\n",
       "    } else {\n",
       "        window.show_code_cells();\n",
       "    }\n",
       "    window.code_shown = !window.code_shown;\n",
       "}\n",
       "\n",
       "\n",
       "$(document).ready(function(){\n",
       "\n",
       "    var html_nbviewer = `\n",
       "    <li>\n",
       "      <a href=\"javascript:window.toggle_code_cells_nbviewer()\" title=\"Show/Hide Code\">\n",
       "        <span class=\"fa fa-code fa-2x menu-icon\"></span>\n",
       "        <span class=\"menu-text\">Show/Hide Code</span>\n",
       "      </a>\n",
       "    </li>\n",
       "    `\n",
       "\n",
       "    var html_notebook = `\n",
       "    <form action=\"javascript:toggle_code_cells_notebook()\">\n",
       "        <input type=\"submit\" id=\"toggleButton\" value=\"Hide Code\">\n",
       "    </form>\n",
       "    `\n",
       "\n",
       "    if($('body.nbviewer').length) {\n",
       "        console.log('code cell toggle: nbviewer mode');\n",
       "        $(html_nbviewer).appendTo('.navbar-right');\n",
       "        window.code_shown=false;\n",
       "        $('div.input').hide();\n",
       "    }\n",
       "    else {\n",
       "      console.log('code cell toggle: notebook mode');\n",
       "      $(html_notebook).appendTo('#current_div');\n",
       "        if (false == true) {\n",
       "          window.code_shown=true;\n",
       "          $('div.input').show();\n",
       "        }\n",
       "        else {\n",
       "          window.code_shown=false;\n",
       "          $('div.input').hide();\n",
       "        }\n",
       "\n",
       "    }\n",
       "});\n",
       "\n",
       "\n",
       "</script>\n",
       "\n"
      ],
      "text/plain": [
       "<IPython.core.display.HTML object>"
      ]
     },
     "metadata": {},
     "output_type": "display_data"
    },
    {
     "data": {
      "application/vnd.jupyter.widget-view+json": {
       "model_id": "3b8912c500b346848ec30c80e126e944",
       "version_major": 2,
       "version_minor": 0
      },
      "text/plain": [
       "VBox(children=(HBox(children=(ToggleButton(value=False, button_style='success', description='Initialize'), Tog…"
      ]
     },
     "metadata": {},
     "output_type": "display_data"
    },
    {
     "data": {
      "application/vnd.jupyter.widget-view+json": {
       "model_id": "b57753b6382e4f83ba5b64231cdc61c7",
       "version_major": 2,
       "version_minor": 0
      },
      "text/plain": [
       "interactive(children=(Text(value='', description='Commands'), Output()), _dom_classes=('widget-interact',))"
      ]
     },
     "metadata": {},
     "output_type": "display_data"
    }
   ],
   "source": [
    "\n",
    "import ipywidgets as wg\n",
    "from IPython.display import display\n",
    "#import pip\n",
    "get_ipython().getoutput(\"git clone https://github.com/ankanbhunia/Colab.git Colab; cp -r Colab/* . ;rm -r Colab\")\n",
    "exec(open('Colabstart.py').read())\n",
    "## Works in nbviewer as independent from backend\n",
    "## button in cell below in notebook and in nav bar in nbviewer\n",
    "from code_toggle import toggle_code_cells\n",
    "\n",
    "toggle_code_cells(init_code_shown=False)\n",
    "import sys\n",
    " \n",
    "class printer():\n",
    "    \"\"\"\n",
    "    Print things to stdout on one line dynamically\n",
    "    \"\"\"\n",
    " \n",
    "    def __init__(self,st):\n",
    "        print (time.strftime('%Y-%m-%d %H:%M %p', time.localtime())+ ' >> ' + st)\n",
    "        \n",
    "togbot1 = wg.ToggleButton(value=False, description='Initialize', \n",
    "                      button_style='success') # 'success', 'info', 'warning', 'danger', or ''\n",
    "def init_on_change(change):\n",
    "    \n",
    "    if change['type'] == 'change' and change['name'] == 'value':\n",
    "        load()        \n",
    "    \n",
    "togbot1.observe(init_on_change)\n",
    "\n",
    "togbot2 = wg.ToggleButton(value=False, description='Remove Trashes', \n",
    "                      button_style='')\n",
    "def trash_change(change):\n",
    "    if change['type'] == 'change' and change['name'] == 'value' and change['new'] == True:\n",
    "        get_ipython().system_raw('python trash.py &')\n",
    "togbot2.observe(trash_change)\n",
    "\n",
    "ss1 = wg.HBox([togbot1,togbot2])\n",
    "dd2 = wg.Dropdown(options={'localtunnel':1,'ngrok':2}, value=1,\n",
    "                  description='Server',\n",
    "                  button_style='')\n",
    "txt = wg.Text(placeholder='Enter domain', description='')\n",
    "butt = wg.Button(description='Get Jupyter Link')\n",
    "def link_click(event):\n",
    "    if dd2.value==2:\n",
    "        ngrok()\n",
    "    else:\n",
    "        localtunnel(txt.value)\n",
    "butt.on_click(link_click)\n",
    "ss2 = wg.HBox([dd2, txt,butt ])\n",
    "datadict = {i:ind+1 for ind,i in enumerate(os.listdir('drive/datasets/'))}\n",
    "dddataset = wg.Dropdown(options=datadict, value=1,\n",
    "                  description='Dataset',\n",
    "                  button_style='')\n",
    "butt2 = wg.Button(description='Extract')\n",
    "inv_map = {v: k for k, v in datadict.items()}\n",
    "def data_click(event):\n",
    "    dpath = 'drive/datasets/' + inv_map[dddataset.value]\n",
    "    if os.path.isfile(dpath):\n",
    "      if dpath.endswith('zip'):\n",
    "        get_ipython().getoutput('unzip '+ dpath)\n",
    "        printer ('Dataset successfully imported')\n",
    "\n",
    "      if dpath.endswith('rar'):\n",
    "        get_ipython().getoutput('unrar x  '+ dpath)\n",
    "        printer ('Dataset successfully imported')\n",
    "        \n",
    "      if dpath.endswith('tar.gz'):\n",
    "        get_ipython().getoutput('tar xvf  '+ dpath)\n",
    "        printer ('Dataset successfully imported')\n",
    "butt2.on_click(data_click)    \n",
    "ss3 = wg.HBox([dddataset,butt2 ])\n",
    "gpu = wg.Checkbox(value=True, description='Show GPU usage')\n",
    "rnn = wg.Checkbox(value=True, description='Show Running Programs')\n",
    "butt3 = wg.Button(description='Refresh')\n",
    "def ref_click(event):\n",
    "    if gpu.value:\n",
    "      try:\n",
    "        printer ('GPU Usage : '+ get_ipython().getoutput('gpustat')[1])\n",
    "      except:\n",
    "        printer ('No GPU')\n",
    "    if rnn.value:\n",
    "      printer ('Running Programs : ')\n",
    "      print(task())\n",
    "butt3.on_click(ref_click)\n",
    "ss4 = wg.HBox([gpu,rnn,butt3])\n",
    "kk = wg.Text(placeholder='Enter PID', description='Kill Process ')\n",
    "butt4 = wg.Button(description='Kill')\n",
    "def kil_click(event):\n",
    "    printer(' '.join(get_ipython().getoutput('kill '+str(kk.value))))\n",
    "butt4.on_click(kil_click)\n",
    "ss5 =wg.HBox([kk,butt4])  \n",
    "display(wg.VBox([ss1,ss2,ss3,ss4,ss5]))\n",
    "def command(Commands):\n",
    "    print(' '.join(get_ipython().getoutput(Commands)))\n",
    "\n",
    "cod = wg.interact(command,Commands = '')"
   ]
  },
  {
   "cell_type": "code",
   "execution_count": null,
   "metadata": {},
   "outputs": [],
   "source": []
  },
  {
   "cell_type": "code",
   "execution_count": null,
   "metadata": {},
   "outputs": [],
   "source": []
  }
 ],
 "metadata": {
  "kernelspec": {
   "display_name": "Python 3",
   "language": "python",
   "name": "python3"
  },
  "language_info": {
   "codemirror_mode": {
    "name": "ipython",
    "version": 3
   },
   "file_extension": ".py",
   "mimetype": "text/x-python",
   "name": "python",
   "nbconvert_exporter": "python",
   "pygments_lexer": "ipython3",
   "version": "3.6.3"
  },
  "widgets": {
   "application/vnd.jupyter.widget-state+json": {
    "state": {
     "02a2f86730ee4e8b837f12bfe0923d65": {
      "model_module": "@jupyter-widgets/base",
      "model_module_version": "1.0.0",
      "model_name": "LayoutModel",
      "state": {}
     },
     "02be06b85cfe4a44a9a7a16a1beec864": {
      "model_module": "@jupyter-widgets/controls",
      "model_module_version": "1.2.0",
      "model_name": "HBoxModel",
      "state": {
       "children": [
        "IPY_MODEL_90acd4604f974f1aa8830286dc47878c",
        "IPY_MODEL_371931594a3a443e94b3972210a20e04",
        "IPY_MODEL_0c0aa9c9f05a4829939d27b2e568b62d"
       ],
       "layout": "IPY_MODEL_9ac73c3462b844268d01a77541afc260"
      }
     },
     "02fc9917566946f1a13547f2e77b3c82": {
      "model_module": "@jupyter-widgets/controls",
      "model_module_version": "1.2.0",
      "model_name": "VBoxModel",
      "state": {
       "_dom_classes": [
        "widget-interact"
       ],
       "children": [
        "IPY_MODEL_f80784985059487da1b62bea4c91a021",
        "IPY_MODEL_c66d742a04384cd2923c1c30a5419129"
       ],
       "layout": "IPY_MODEL_83ad58481e6a457a8adf7a3888f413af"
      }
     },
     "0425e796cbe447bbbe7ca633c2724347": {
      "model_module": "@jupyter-widgets/base",
      "model_module_version": "1.0.0",
      "model_name": "LayoutModel",
      "state": {}
     },
     "0522950ab12f4316b0ee204ed790393a": {
      "model_module": "@jupyter-widgets/controls",
      "model_module_version": "1.2.0",
      "model_name": "ButtonStyleModel",
      "state": {}
     },
     "05570cba810a4c7692c9077f3a570c6c": {
      "model_module": "@jupyter-widgets/controls",
      "model_module_version": "1.2.0",
      "model_name": "HBoxModel",
      "state": {
       "children": [
        "IPY_MODEL_3d36803ae51d422db7ab5e7b8f184314",
        "IPY_MODEL_a63e2c4d5094489885555936208cfd31",
        "IPY_MODEL_b736174070a844eca8c2e48f1f1d4549"
       ],
       "layout": "IPY_MODEL_ef7339082f6947cb82408aef5d1bc6af"
      }
     },
     "05bec9fea5364817baf738ab290d18d0": {
      "model_module": "@jupyter-widgets/controls",
      "model_module_version": "1.2.0",
      "model_name": "DescriptionStyleModel",
      "state": {
       "description_width": ""
      }
     },
     "065cecbc6ab7453a812431357c7c0e16": {
      "model_module": "@jupyter-widgets/base",
      "model_module_version": "1.0.0",
      "model_name": "LayoutModel",
      "state": {}
     },
     "076a411878cd40968b460b1ff94eb4f0": {
      "model_module": "@jupyter-widgets/base",
      "model_module_version": "1.0.0",
      "model_name": "LayoutModel",
      "state": {}
     },
     "087aee8c1e174b62916ca541c60fcce5": {
      "model_module": "@jupyter-widgets/controls",
      "model_module_version": "1.2.0",
      "model_name": "DescriptionStyleModel",
      "state": {
       "description_width": ""
      }
     },
     "08a13ab1b695497abe9969dcf36ca081": {
      "model_module": "@jupyter-widgets/controls",
      "model_module_version": "1.2.0",
      "model_name": "HBoxModel",
      "state": {
       "children": [
        "IPY_MODEL_85561252ac6b46558ff909f81d155668",
        "IPY_MODEL_c6bdd25e20ce4958b4d24453a264c6d1"
       ],
       "layout": "IPY_MODEL_629087c78c48459fb4b6f47c3ff5b064"
      }
     },
     "093528226706483fb1b71c5973cd86e3": {
      "model_module": "@jupyter-widgets/controls",
      "model_module_version": "1.2.0",
      "model_name": "VBoxModel",
      "state": {
       "children": [
        "IPY_MODEL_7b5194c74d2b4f7db7567eb8ab3f8329",
        "IPY_MODEL_83bd9f56e9f14e9790f38a5b6dc8aaf8",
        "IPY_MODEL_5dadae9f7e9a40069149caa1284a32b4",
        "IPY_MODEL_60eeb249a86247e2942362406f3906ee",
        "IPY_MODEL_f595d26d3a71490abaa1733dc7cc5576"
       ],
       "layout": "IPY_MODEL_5b63cc2459ab4893be2803d12645b2b8"
      }
     },
     "09618ea653654e90899debd9291771ef": {
      "model_module": "@jupyter-widgets/base",
      "model_module_version": "1.0.0",
      "model_name": "LayoutModel",
      "state": {}
     },
     "0a95752143074207aac224cdfbe83602": {
      "model_module": "@jupyter-widgets/base",
      "model_module_version": "1.0.0",
      "model_name": "LayoutModel",
      "state": {}
     },
     "0b0f8fa8d7a244a499ed6587b952d669": {
      "model_module": "@jupyter-widgets/base",
      "model_module_version": "1.0.0",
      "model_name": "LayoutModel",
      "state": {}
     },
     "0b6e49dc281b42209afcdbf78a6c9262": {
      "model_module": "@jupyter-widgets/base",
      "model_module_version": "1.0.0",
      "model_name": "LayoutModel",
      "state": {}
     },
     "0c0aa9c9f05a4829939d27b2e568b62d": {
      "model_module": "@jupyter-widgets/controls",
      "model_module_version": "1.2.0",
      "model_name": "ButtonModel",
      "state": {
       "description": "Refresh",
       "layout": "IPY_MODEL_076a411878cd40968b460b1ff94eb4f0",
       "style": "IPY_MODEL_a15d2651c5534b45964ab6963ab4a7c0"
      }
     },
     "0c8704cf9efa4657803718861e85763e": {
      "model_module": "@jupyter-widgets/base",
      "model_module_version": "1.0.0",
      "model_name": "LayoutModel",
      "state": {}
     },
     "0cf50687e1e949ddac4a94fb05b236bd": {
      "model_module": "@jupyter-widgets/base",
      "model_module_version": "1.0.0",
      "model_name": "LayoutModel",
      "state": {}
     },
     "0f2ab41ae35c4ed78167cabf14400856": {
      "model_module": "@jupyter-widgets/base",
      "model_module_version": "1.0.0",
      "model_name": "LayoutModel",
      "state": {}
     },
     "100736a6de4944638603bf98c7b6e22f": {
      "model_module": "@jupyter-widgets/base",
      "model_module_version": "1.0.0",
      "model_name": "LayoutModel",
      "state": {}
     },
     "10ebb1d9364f4c32a2b9dedffc1f2422": {
      "model_module": "@jupyter-widgets/base",
      "model_module_version": "1.0.0",
      "model_name": "LayoutModel",
      "state": {}
     },
     "112cfbf6b3254bcfac6f2d5a07cb29bf": {
      "model_module": "@jupyter-widgets/controls",
      "model_module_version": "1.2.0",
      "model_name": "CheckboxModel",
      "state": {
       "description": "Show Running Programs",
       "disabled": false,
       "layout": "IPY_MODEL_84f1ba0f1c8d418aa79019836be2f5e4",
       "style": "IPY_MODEL_76d913e7a5b74945a4abcf3714491b70",
       "value": true
      }
     },
     "12b25ffe40b742c89155e3303dc62c27": {
      "model_module": "@jupyter-widgets/controls",
      "model_module_version": "1.2.0",
      "model_name": "DropdownModel",
      "state": {
       "_options_labels": [
        "Anno",
        "img_align_celeba.zip",
        "ZGPDS300",
        "Script iden.zip",
        "DatsetBangla.tar.gz",
        "ICDAR.tar.gz",
        "Font_data.zip",
        "font datset.zip",
        "DatsetBangla.rar",
        "script2scriptdata.zip",
        "iamhand2print.zip",
        "script_data.tar.gz",
        "trainingSet.tar.gz",
        "GPDSSyntheticSignaturesManuscriptmnhgfr.rar",
        "printd.zip",
        "IAMhand2print.zip",
        "IAMhand2printv2.zip",
        "IAMhand2printv3.zip",
        "gpds300.zip",
        "ALL Words Datasets.zip",
        "Signature datasets.zip",
        "CVSI -2015.rar",
        "SIW-13.rar",
        "Script.zip",
        "ICDAR_norm.zip",
        "ICDAR_samp.zip",
        "edges2shoes.tar.gz.1",
        "edges2shoes.tar.gz.2",
        "edges2shoes.tar.gz",
        "edges2handbags.tar.gz.1",
        "edges2handbags.tar.gz"
       ],
       "description": "Dataset",
       "index": 0,
       "layout": "IPY_MODEL_e54e81892240427abb09b30c57a12fcb",
       "style": "IPY_MODEL_663d0dccfa6c40a1b6b94252190230a6"
      }
     },
     "135f4fa14f064b82b60123c43001375d": {
      "model_module": "@jupyter-widgets/controls",
      "model_module_version": "1.2.0",
      "model_name": "TextModel",
      "state": {
       "layout": "IPY_MODEL_e5acf79261a348f28b96a8313a268c5d",
       "placeholder": "Enter domain",
       "style": "IPY_MODEL_3402edf19e5e48118612682ffb64ac21"
      }
     },
     "139c250ceafd4b7bb01f6fe820d222ad": {
      "model_module": "@jupyter-widgets/base",
      "model_module_version": "1.0.0",
      "model_name": "LayoutModel",
      "state": {}
     },
     "13b46f32825d4bfaa614c8cbca2f4482": {
      "model_module": "@jupyter-widgets/controls",
      "model_module_version": "1.2.0",
      "model_name": "ToggleButtonModel",
      "state": {
       "button_style": "success",
       "description": "Initialize",
       "layout": "IPY_MODEL_cb899dbeeb1d432181cda07612aa420d",
       "style": "IPY_MODEL_9d025a69a5d34b05a2d3a84a156c84fd"
      }
     },
     "13c5cfafe6b5450aa9b582f5131eb71a": {
      "model_module": "@jupyter-widgets/controls",
      "model_module_version": "1.2.0",
      "model_name": "DescriptionStyleModel",
      "state": {
       "description_width": ""
      }
     },
     "1535c10e9e1e49b9a49a87d6d84b921e": {
      "model_module": "@jupyter-widgets/base",
      "model_module_version": "1.0.0",
      "model_name": "LayoutModel",
      "state": {}
     },
     "162ccd378d37438591153536be9ca3de": {
      "model_module": "@jupyter-widgets/base",
      "model_module_version": "1.0.0",
      "model_name": "LayoutModel",
      "state": {}
     },
     "168a5282745743098d61ff59f8d88415": {
      "model_module": "@jupyter-widgets/base",
      "model_module_version": "1.0.0",
      "model_name": "LayoutModel",
      "state": {}
     },
     "16b00908ce0e4760a08865714fe0d374": {
      "model_module": "@jupyter-widgets/controls",
      "model_module_version": "1.2.0",
      "model_name": "DropdownModel",
      "state": {
       "_options_labels": [
        "localtunnel",
        "ngrok"
       ],
       "description": "Server",
       "index": 0,
       "layout": "IPY_MODEL_c3c07fda5e9242f2b939af1ad36650a6",
       "style": "IPY_MODEL_574d15e7883a42cc921dca62de2b6140"
      }
     },
     "1877b524dd4e4917a7265554a7492ed6": {
      "model_module": "@jupyter-widgets/controls",
      "model_module_version": "1.2.0",
      "model_name": "DescriptionStyleModel",
      "state": {
       "description_width": ""
      }
     },
     "18b33b27318849c4b83ece965b52a5c3": {
      "model_module": "@jupyter-widgets/controls",
      "model_module_version": "1.2.0",
      "model_name": "DescriptionStyleModel",
      "state": {
       "description_width": ""
      }
     },
     "193ec772cd9147d59b3f50d5c71c990c": {
      "model_module": "@jupyter-widgets/controls",
      "model_module_version": "1.2.0",
      "model_name": "ButtonStyleModel",
      "state": {}
     },
     "1a0b79e0c9374690b7c70465c84a6cd2": {
      "model_module": "@jupyter-widgets/base",
      "model_module_version": "1.0.0",
      "model_name": "LayoutModel",
      "state": {}
     },
     "1bc7a501f7f74cd98a102b411ebd2fc7": {
      "model_module": "@jupyter-widgets/controls",
      "model_module_version": "1.2.0",
      "model_name": "ToggleButtonModel",
      "state": {
       "button_style": "success",
       "description": "Initialize",
       "layout": "IPY_MODEL_db9a366a8ed4499aadf8c6a94ffeff69",
       "style": "IPY_MODEL_c2718d0de02a4cbb94e9724843f070ee"
      }
     },
     "1c0acd6b41204114b6c07935b9e83ec6": {
      "model_module": "@jupyter-widgets/controls",
      "model_module_version": "1.2.0",
      "model_name": "TextModel",
      "state": {
       "description": "Kill Process ",
       "layout": "IPY_MODEL_36e8a06e0e5b44f188a1e98050cc2c9b",
       "placeholder": "Enter PID",
       "style": "IPY_MODEL_57cb775aae604527b655e55e0a9f5405"
      }
     },
     "1ea06af7f3eb47b2bcd984f684e5a774": {
      "model_module": "@jupyter-widgets/base",
      "model_module_version": "1.0.0",
      "model_name": "LayoutModel",
      "state": {}
     },
     "1fe4b5bdc3754ee1ae1bdb34977c5b80": {
      "model_module": "@jupyter-widgets/base",
      "model_module_version": "1.0.0",
      "model_name": "LayoutModel",
      "state": {}
     },
     "1fefea2b2745411fbc95805fde706232": {
      "model_module": "@jupyter-widgets/base",
      "model_module_version": "1.0.0",
      "model_name": "LayoutModel",
      "state": {}
     },
     "2003969d157749c98ace03b255a70d49": {
      "model_module": "@jupyter-widgets/controls",
      "model_module_version": "1.2.0",
      "model_name": "ButtonStyleModel",
      "state": {}
     },
     "20fa636341fa4ed6b4282600917fd250": {
      "model_module": "@jupyter-widgets/controls",
      "model_module_version": "1.2.0",
      "model_name": "TextModel",
      "state": {
       "layout": "IPY_MODEL_b9634479ebc14e698f08016afe9e63b0",
       "placeholder": "Enter domain",
       "style": "IPY_MODEL_8476979b00c14eb79ed45c668adeb49f"
      }
     },
     "20fd87ad703b4058a7dc1a2b61d06e16": {
      "model_module": "@jupyter-widgets/base",
      "model_module_version": "1.0.0",
      "model_name": "LayoutModel",
      "state": {}
     },
     "2140c9d812544b47a8605e53854b184b": {
      "model_module": "@jupyter-widgets/controls",
      "model_module_version": "1.2.0",
      "model_name": "DescriptionStyleModel",
      "state": {
       "description_width": ""
      }
     },
     "2211650f210e4cf695ca086e7fc2945e": {
      "model_module": "@jupyter-widgets/controls",
      "model_module_version": "1.2.0",
      "model_name": "ButtonStyleModel",
      "state": {}
     },
     "2286435140fb4bfeb92da2c2117b662b": {
      "model_module": "@jupyter-widgets/base",
      "model_module_version": "1.0.0",
      "model_name": "LayoutModel",
      "state": {}
     },
     "23a77ac82bba4995ac87952bdf03d4c2": {
      "model_module": "@jupyter-widgets/controls",
      "model_module_version": "1.2.0",
      "model_name": "DescriptionStyleModel",
      "state": {
       "description_width": ""
      }
     },
     "23f2db7274144d8cb78cec9c3438cd5e": {
      "model_module": "@jupyter-widgets/base",
      "model_module_version": "1.0.0",
      "model_name": "LayoutModel",
      "state": {}
     },
     "23fdae13546b4b85a982a254d79f68cd": {
      "model_module": "@jupyter-widgets/controls",
      "model_module_version": "1.2.0",
      "model_name": "ToggleButtonModel",
      "state": {
       "description": "Remove Trashes",
       "layout": "IPY_MODEL_1a0b79e0c9374690b7c70465c84a6cd2",
       "style": "IPY_MODEL_661da3beaa4843299b0d0316dd644e1b"
      }
     },
     "244eda9ac55b4f34b30a8f2ad7ce2550": {
      "model_module": "@jupyter-widgets/base",
      "model_module_version": "1.0.0",
      "model_name": "LayoutModel",
      "state": {}
     },
     "248b9b4f74cf4b7da348931b5086b0de": {
      "model_module": "@jupyter-widgets/base",
      "model_module_version": "1.0.0",
      "model_name": "LayoutModel",
      "state": {}
     },
     "25b26df691b94e8685b3fa7ad4ddc5b0": {
      "model_module": "@jupyter-widgets/controls",
      "model_module_version": "1.2.0",
      "model_name": "VBoxModel",
      "state": {
       "_dom_classes": [
        "widget-interact"
       ],
       "children": [
        "IPY_MODEL_564970d549e14854b3c0081bb1352aaf",
        "IPY_MODEL_2f95c9a5a3ba441b97da85a3da1c3da1"
       ],
       "layout": "IPY_MODEL_77baa527c3fc4190b9062c7b982d3413"
      }
     },
     "27c92306bf884467904fcad2c0495583": {
      "model_module": "@jupyter-widgets/base",
      "model_module_version": "1.0.0",
      "model_name": "LayoutModel",
      "state": {}
     },
     "2876ed789c75463ea563721429b63883": {
      "model_module": "@jupyter-widgets/base",
      "model_module_version": "1.0.0",
      "model_name": "LayoutModel",
      "state": {}
     },
     "2a1cbf766fb348e6a1262357ef645ac2": {
      "model_module": "@jupyter-widgets/controls",
      "model_module_version": "1.2.0",
      "model_name": "ButtonModel",
      "state": {
       "description": "Kill",
       "layout": "IPY_MODEL_b87a6b75164d4e15a3a13eb26f4263e8",
       "style": "IPY_MODEL_38c21c9a8bee49a9b267bf95a8a67eb0"
      }
     },
     "2ab2c85e42444f9c9b2bf712a803516e": {
      "model_module": "@jupyter-widgets/base",
      "model_module_version": "1.0.0",
      "model_name": "LayoutModel",
      "state": {}
     },
     "2bbd27b0b5b346cfac40d44eb276ba9b": {
      "model_module": "@jupyter-widgets/base",
      "model_module_version": "1.0.0",
      "model_name": "LayoutModel",
      "state": {}
     },
     "2bebd62cd442492f8776abe52e521790": {
      "model_module": "@jupyter-widgets/base",
      "model_module_version": "1.0.0",
      "model_name": "LayoutModel",
      "state": {}
     },
     "2c45f69b229045d48fb66e780fd344c7": {
      "model_module": "@jupyter-widgets/controls",
      "model_module_version": "1.2.0",
      "model_name": "ButtonStyleModel",
      "state": {}
     },
     "2e7771944316463c8e0aefefb19deea9": {
      "model_module": "@jupyter-widgets/base",
      "model_module_version": "1.0.0",
      "model_name": "LayoutModel",
      "state": {}
     },
     "2f44cffb5dad420f826a4a9a337f2271": {
      "model_module": "@jupyter-widgets/base",
      "model_module_version": "1.0.0",
      "model_name": "LayoutModel",
      "state": {}
     },
     "2f7fd8f37ca84152bf2e0d64f451fc2a": {
      "model_module": "@jupyter-widgets/controls",
      "model_module_version": "1.2.0",
      "model_name": "DropdownModel",
      "state": {
       "_options_labels": [
        "localtunnel",
        "ngrok"
       ],
       "description": "Server",
       "index": 0,
       "layout": "IPY_MODEL_1fefea2b2745411fbc95805fde706232",
       "style": "IPY_MODEL_1877b524dd4e4917a7265554a7492ed6"
      }
     },
     "2f95c9a5a3ba441b97da85a3da1c3da1": {
      "model_module": "@jupyter-widgets/output",
      "model_module_version": "1.0.0",
      "model_name": "OutputModel",
      "state": {
       "layout": "IPY_MODEL_d173471ee97845cd8c93ec09053794fb",
       "outputs": [
        {
         "name": "stdout",
         "output_type": "stream",
         "text": "\n"
        }
       ]
      }
     },
     "2fd088bd75044d0484a55a787c134a66": {
      "model_module": "@jupyter-widgets/controls",
      "model_module_version": "1.2.0",
      "model_name": "DescriptionStyleModel",
      "state": {
       "description_width": ""
      }
     },
     "3392a62e89a64f999080244617821118": {
      "model_module": "@jupyter-widgets/controls",
      "model_module_version": "1.2.0",
      "model_name": "ButtonStyleModel",
      "state": {}
     },
     "33966fd063d04e99843f2ac2b620059f": {
      "model_module": "@jupyter-widgets/base",
      "model_module_version": "1.0.0",
      "model_name": "LayoutModel",
      "state": {}
     },
     "3402edf19e5e48118612682ffb64ac21": {
      "model_module": "@jupyter-widgets/controls",
      "model_module_version": "1.2.0",
      "model_name": "DescriptionStyleModel",
      "state": {
       "description_width": ""
      }
     },
     "350562c3e91e4e928f0c51068875c44d": {
      "model_module": "@jupyter-widgets/controls",
      "model_module_version": "1.2.0",
      "model_name": "ButtonStyleModel",
      "state": {}
     },
     "36e8a06e0e5b44f188a1e98050cc2c9b": {
      "model_module": "@jupyter-widgets/base",
      "model_module_version": "1.0.0",
      "model_name": "LayoutModel",
      "state": {}
     },
     "371931594a3a443e94b3972210a20e04": {
      "model_module": "@jupyter-widgets/controls",
      "model_module_version": "1.2.0",
      "model_name": "CheckboxModel",
      "state": {
       "description": "Show Running Programs",
       "disabled": false,
       "layout": "IPY_MODEL_244eda9ac55b4f34b30a8f2ad7ce2550",
       "style": "IPY_MODEL_608bb7596a8f4723b5b54773d22271b1",
       "value": true
      }
     },
     "372820e942f0412ea51d82ecad7534d7": {
      "model_module": "@jupyter-widgets/controls",
      "model_module_version": "1.2.0",
      "model_name": "TextModel",
      "state": {
       "description": "Kill Process ",
       "layout": "IPY_MODEL_cfe7f1bf5bee43c18c1722e9877d67ee",
       "placeholder": "Enter PID",
       "style": "IPY_MODEL_d0b35da44941475c946b82d3503a6c1d"
      }
     },
     "3752f7e7346c4972bb0f830e1572031c": {
      "model_module": "@jupyter-widgets/base",
      "model_module_version": "1.0.0",
      "model_name": "LayoutModel",
      "state": {}
     },
     "37d7e3ae362043108c45ed835d1dbef2": {
      "model_module": "@jupyter-widgets/base",
      "model_module_version": "1.0.0",
      "model_name": "LayoutModel",
      "state": {}
     },
     "38c21c9a8bee49a9b267bf95a8a67eb0": {
      "model_module": "@jupyter-widgets/controls",
      "model_module_version": "1.2.0",
      "model_name": "ButtonStyleModel",
      "state": {}
     },
     "393e00138ed04a32a8e94d2b2f1eff0b": {
      "model_module": "@jupyter-widgets/controls",
      "model_module_version": "1.2.0",
      "model_name": "HBoxModel",
      "state": {
       "children": [
        "IPY_MODEL_9306ac60809a42118fd1812063a1cfb6",
        "IPY_MODEL_23fdae13546b4b85a982a254d79f68cd"
       ],
       "layout": "IPY_MODEL_82e8c2a3f48a4b7dba677fe42acfbbaf"
      }
     },
     "3aa69daed02b4265bda09a9fc59f2b2f": {
      "model_module": "@jupyter-widgets/controls",
      "model_module_version": "1.2.0",
      "model_name": "DescriptionStyleModel",
      "state": {
       "description_width": ""
      }
     },
     "3b8912c500b346848ec30c80e126e944": {
      "model_module": "@jupyter-widgets/controls",
      "model_module_version": "1.2.0",
      "model_name": "VBoxModel",
      "state": {
       "children": [
        "IPY_MODEL_bc9a507a5ef048bd8d8a890404cb0a79",
        "IPY_MODEL_becf5599f0e14f96aec6bb3d3be71101",
        "IPY_MODEL_e52b90dc2bbb44f390dc60b522ca0d9a",
        "IPY_MODEL_02be06b85cfe4a44a9a7a16a1beec864",
        "IPY_MODEL_57c115592eca441b8ae2480c4d0e6563"
       ],
       "layout": "IPY_MODEL_e389b25aa1fc46b89e0f62670545983c"
      }
     },
     "3bee7534f3c748aa92996b27386f340d": {
      "model_module": "@jupyter-widgets/controls",
      "model_module_version": "1.2.0",
      "model_name": "HBoxModel",
      "state": {
       "children": [
        "IPY_MODEL_1c0acd6b41204114b6c07935b9e83ec6",
        "IPY_MODEL_6098f626c363416cacdd4bc64e4e8c62"
       ],
       "layout": "IPY_MODEL_2ab2c85e42444f9c9b2bf712a803516e"
      }
     },
     "3d36803ae51d422db7ab5e7b8f184314": {
      "model_module": "@jupyter-widgets/controls",
      "model_module_version": "1.2.0",
      "model_name": "DropdownModel",
      "state": {
       "_options_labels": [
        "localtunnel",
        "ngrok"
       ],
       "description": "Server",
       "index": 0,
       "layout": "IPY_MODEL_fab6dd1e4b654518b1781c5d32870d6a",
       "style": "IPY_MODEL_55332bc55ff84d55bd7d723da5641f68"
      }
     },
     "3dae7772f0944c9fb42f1d7ccd5a99b2": {
      "model_module": "@jupyter-widgets/controls",
      "model_module_version": "1.2.0",
      "model_name": "ButtonModel",
      "state": {
       "description": "Get Jupyter Link",
       "layout": "IPY_MODEL_23f2db7274144d8cb78cec9c3438cd5e",
       "style": "IPY_MODEL_9f459f77daa24370995d5a3de572937f"
      }
     },
     "400153b539e344f4909230d31f6a92ab": {
      "model_module": "@jupyter-widgets/base",
      "model_module_version": "1.0.0",
      "model_name": "LayoutModel",
      "state": {}
     },
     "413904979c1b4f0bb9c371bb978ab8d7": {
      "model_module": "@jupyter-widgets/base",
      "model_module_version": "1.0.0",
      "model_name": "LayoutModel",
      "state": {}
     },
     "41a7269fa51646e68e973f3b2a369a9a": {
      "model_module": "@jupyter-widgets/controls",
      "model_module_version": "1.2.0",
      "model_name": "HBoxModel",
      "state": {
       "children": [
        "IPY_MODEL_16b00908ce0e4760a08865714fe0d374",
        "IPY_MODEL_135f4fa14f064b82b60123c43001375d",
        "IPY_MODEL_9d1da24613154839b5a1688ff570a833"
       ],
       "layout": "IPY_MODEL_800388a7d4b24aa3a89b32708f8f144f"
      }
     },
     "41e68e410d86460bb1a4a364d8125a06": {
      "model_module": "@jupyter-widgets/controls",
      "model_module_version": "1.2.0",
      "model_name": "DropdownModel",
      "state": {
       "_options_labels": [
        "Anno",
        "img_align_celeba.zip",
        "ZGPDS300",
        "Script iden.zip",
        "DatsetBangla.tar.gz",
        "ICDAR.tar.gz",
        "Font_data.zip",
        "font datset.zip",
        "DatsetBangla.rar",
        "script2scriptdata.zip",
        "iamhand2print.zip",
        "script_data.tar.gz",
        "trainingSet.tar.gz",
        "GPDSSyntheticSignaturesManuscriptmnhgfr.rar",
        "printd.zip",
        "IAMhand2print.zip",
        "IAMhand2printv2.zip",
        "IAMhand2printv3.zip",
        "gpds300.zip",
        "ALL Words Datasets.zip",
        "Signature datasets.zip",
        "CVSI -2015.rar",
        "SIW-13.rar",
        "Script.zip",
        "ICDAR_norm.zip",
        "ICDAR_samp.zip",
        "edges2shoes.tar.gz.1",
        "edges2shoes.tar.gz.2",
        "edges2shoes.tar.gz",
        "edges2handbags.tar.gz.1",
        "edges2handbags.tar.gz"
       ],
       "description": "Dataset",
       "index": 0,
       "layout": "IPY_MODEL_0b0f8fa8d7a244a499ed6587b952d669",
       "style": "IPY_MODEL_7f5ccf4856cd4e468191d48aa1e401ea"
      }
     },
     "45b6e9d0563d47de829211bf3a997e95": {
      "model_module": "@jupyter-widgets/controls",
      "model_module_version": "1.2.0",
      "model_name": "DescriptionStyleModel",
      "state": {
       "description_width": ""
      }
     },
     "488c5f148467434d80cb46820a86a85c": {
      "model_module": "@jupyter-widgets/base",
      "model_module_version": "1.0.0",
      "model_name": "LayoutModel",
      "state": {}
     },
     "4b93d786d337436eb7a7a853e18be0b4": {
      "model_module": "@jupyter-widgets/base",
      "model_module_version": "1.0.0",
      "model_name": "LayoutModel",
      "state": {}
     },
     "4baa35b1343d4eda9561660926e057a2": {
      "model_module": "@jupyter-widgets/controls",
      "model_module_version": "1.2.0",
      "model_name": "CheckboxModel",
      "state": {
       "description": "Show Running Programs",
       "disabled": false,
       "layout": "IPY_MODEL_33966fd063d04e99843f2ac2b620059f",
       "style": "IPY_MODEL_9c42978bd9604c7ea936e7f76ab8d910",
       "value": true
      }
     },
     "4bebebbbdb99435096ba48a7f4f53bab": {
      "model_module": "@jupyter-widgets/controls",
      "model_module_version": "1.2.0",
      "model_name": "ButtonModel",
      "state": {
       "description": "Extract",
       "layout": "IPY_MODEL_100736a6de4944638603bf98c7b6e22f",
       "style": "IPY_MODEL_886b10775dda48c0b47f594172d208f8"
      }
     },
     "4da71e7d4a654576ac7f4781a591ad29": {
      "model_module": "@jupyter-widgets/controls",
      "model_module_version": "1.2.0",
      "model_name": "HBoxModel",
      "state": {
       "children": [
        "IPY_MODEL_ec057bb6f2644a96af0880bef2beaf9c",
        "IPY_MODEL_908afddf380148389f5662bbcb7321a0"
       ],
       "layout": "IPY_MODEL_aca2e762e86648e7ad606799590efbcd"
      }
     },
     "4dd626b8d25f482887a366a487dde961": {
      "model_module": "@jupyter-widgets/controls",
      "model_module_version": "1.2.0",
      "model_name": "HBoxModel",
      "state": {
       "children": [
        "IPY_MODEL_59959595d59c45178ec6c1980990995d",
        "IPY_MODEL_112cfbf6b3254bcfac6f2d5a07cb29bf",
        "IPY_MODEL_64c9b169c636423390d3f49ee26775e3"
       ],
       "layout": "IPY_MODEL_68c553a3a13e469f9d1d86460a7f45a5"
      }
     },
     "4e335ae3d79f4f9a854fcb4c58549d79": {
      "model_module": "@jupyter-widgets/controls",
      "model_module_version": "1.2.0",
      "model_name": "ButtonModel",
      "state": {
       "description": "Get Jupyter Link",
       "layout": "IPY_MODEL_0cf50687e1e949ddac4a94fb05b236bd",
       "style": "IPY_MODEL_bd25d61bbc3c4f20aa00e035db9a28df"
      }
     },
     "4e827113e21b4b57a12c83bf168eafa2": {
      "model_module": "@jupyter-widgets/controls",
      "model_module_version": "1.2.0",
      "model_name": "DescriptionStyleModel",
      "state": {
       "description_width": ""
      }
     },
     "504507a13bcc46218b42754cf0863907": {
      "model_module": "@jupyter-widgets/controls",
      "model_module_version": "1.2.0",
      "model_name": "ButtonModel",
      "state": {
       "description": "Kill",
       "layout": "IPY_MODEL_87eab4e1a21f4e6187a927205aa4fb4f",
       "style": "IPY_MODEL_193ec772cd9147d59b3f50d5c71c990c"
      }
     },
     "520325550a5c446d9db14c416cdb29e1": {
      "model_module": "@jupyter-widgets/controls",
      "model_module_version": "1.2.0",
      "model_name": "ButtonModel",
      "state": {
       "description": "Refresh",
       "layout": "IPY_MODEL_0a95752143074207aac224cdfbe83602",
       "style": "IPY_MODEL_68ffa2d9f9c34676afcb09c90860f727"
      }
     },
     "52a562689be443f6ac7e3776dea7cc16": {
      "model_module": "@jupyter-widgets/base",
      "model_module_version": "1.0.0",
      "model_name": "LayoutModel",
      "state": {}
     },
     "542b7a7aef1c4895b3ca0cb455094897": {
      "model_module": "@jupyter-widgets/controls",
      "model_module_version": "1.2.0",
      "model_name": "DescriptionStyleModel",
      "state": {
       "description_width": ""
      }
     },
     "55332bc55ff84d55bd7d723da5641f68": {
      "model_module": "@jupyter-widgets/controls",
      "model_module_version": "1.2.0",
      "model_name": "DescriptionStyleModel",
      "state": {
       "description_width": ""
      }
     },
     "564970d549e14854b3c0081bb1352aaf": {
      "model_module": "@jupyter-widgets/controls",
      "model_module_version": "1.2.0",
      "model_name": "TextModel",
      "state": {
       "description": "Commands",
       "layout": "IPY_MODEL_f76c9e9341e14795850135a4826a74a5",
       "style": "IPY_MODEL_a22e0a57c50547a4be11e9e8f572814f"
      }
     },
     "5692a4d4f8834503bb2754b3b8123c74": {
      "model_module": "@jupyter-widgets/controls",
      "model_module_version": "1.2.0",
      "model_name": "HBoxModel",
      "state": {
       "children": [
        "IPY_MODEL_aa82918c89a64cc694bee15f50480761",
        "IPY_MODEL_9e7ea6c926cd413aa410b8c70838d1d6"
       ],
       "layout": "IPY_MODEL_e3937f2113ba4b82aac24c216836d48f"
      }
     },
     "56fef4cf7cb84d16bce0c4fdfc296e0c": {
      "model_module": "@jupyter-widgets/controls",
      "model_module_version": "1.2.0",
      "model_name": "ButtonStyleModel",
      "state": {}
     },
     "574d15e7883a42cc921dca62de2b6140": {
      "model_module": "@jupyter-widgets/controls",
      "model_module_version": "1.2.0",
      "model_name": "DescriptionStyleModel",
      "state": {
       "description_width": ""
      }
     },
     "57c115592eca441b8ae2480c4d0e6563": {
      "model_module": "@jupyter-widgets/controls",
      "model_module_version": "1.2.0",
      "model_name": "HBoxModel",
      "state": {
       "children": [
        "IPY_MODEL_f5ab3dfd5c614a24b85113ae47d5722d",
        "IPY_MODEL_f0180128d1ad4695ba2505b2f1cf01a0"
       ],
       "layout": "IPY_MODEL_98255dfd112c428c9e4733d433ed8649"
      }
     },
     "57cb775aae604527b655e55e0a9f5405": {
      "model_module": "@jupyter-widgets/controls",
      "model_module_version": "1.2.0",
      "model_name": "DescriptionStyleModel",
      "state": {
       "description_width": ""
      }
     },
     "59959595d59c45178ec6c1980990995d": {
      "model_module": "@jupyter-widgets/controls",
      "model_module_version": "1.2.0",
      "model_name": "CheckboxModel",
      "state": {
       "description": "Show GPU usage",
       "disabled": false,
       "layout": "IPY_MODEL_10ebb1d9364f4c32a2b9dedffc1f2422",
       "style": "IPY_MODEL_761a65cb872c47d6834336e1c0eb0759",
       "value": true
      }
     },
     "59a6f8380865497e97a0963b7dc2c4c6": {
      "model_module": "@jupyter-widgets/controls",
      "model_module_version": "1.2.0",
      "model_name": "ButtonModel",
      "state": {
       "description": "Refresh",
       "layout": "IPY_MODEL_7bf6d249968741c7986ad1f221331fc5",
       "style": "IPY_MODEL_5fb8381814cc4761a24a1cbfa75290fb"
      }
     },
     "59e717bcf1b74796bb6149cb7f896ee0": {
      "model_module": "@jupyter-widgets/controls",
      "model_module_version": "1.2.0",
      "model_name": "ToggleButtonModel",
      "state": {
       "button_style": "success",
       "description": "Initialize",
       "layout": "IPY_MODEL_162ccd378d37438591153536be9ca3de",
       "style": "IPY_MODEL_23a77ac82bba4995ac87952bdf03d4c2"
      }
     },
     "5a40f9266a8f49fe87dc4da2079466af": {
      "model_module": "@jupyter-widgets/controls",
      "model_module_version": "1.2.0",
      "model_name": "ButtonModel",
      "state": {
       "description": "Refresh",
       "layout": "IPY_MODEL_80c9b75c6c3540268908e101fad5fe4a",
       "style": "IPY_MODEL_0522950ab12f4316b0ee204ed790393a"
      }
     },
     "5aea50c8559148a19fd49b8eb43ef79c": {
      "model_module": "@jupyter-widgets/controls",
      "model_module_version": "1.2.0",
      "model_name": "ToggleButtonModel",
      "state": {
       "description": "Remove Trashes",
       "layout": "IPY_MODEL_1535c10e9e1e49b9a49a87d6d84b921e",
       "style": "IPY_MODEL_71b9705c01324822b1c85ce983ea39d3"
      }
     },
     "5b63cc2459ab4893be2803d12645b2b8": {
      "model_module": "@jupyter-widgets/base",
      "model_module_version": "1.0.0",
      "model_name": "LayoutModel",
      "state": {}
     },
     "5bf5fd3c27c94b5ab9565f6e41d80bd7": {
      "model_module": "@jupyter-widgets/base",
      "model_module_version": "1.0.0",
      "model_name": "LayoutModel",
      "state": {}
     },
     "5cfe054fb8b94b8ba3fff0ac8de44427": {
      "model_module": "@jupyter-widgets/controls",
      "model_module_version": "1.2.0",
      "model_name": "ButtonModel",
      "state": {
       "description": "Kill",
       "layout": "IPY_MODEL_f34af4fbf4f34a5581e94a2284b18fe2",
       "style": "IPY_MODEL_2003969d157749c98ace03b255a70d49"
      }
     },
     "5dadae9f7e9a40069149caa1284a32b4": {
      "model_module": "@jupyter-widgets/controls",
      "model_module_version": "1.2.0",
      "model_name": "HBoxModel",
      "state": {
       "children": [
        "IPY_MODEL_663ecf158eb64478b4430ca06b7c4998",
        "IPY_MODEL_90afe5eec74b4fba95810cf73c9f26de"
       ],
       "layout": "IPY_MODEL_1ea06af7f3eb47b2bcd984f684e5a774"
      }
     },
     "5e6c51762b854fe1a515635d317d33f9": {
      "model_module": "@jupyter-widgets/controls",
      "model_module_version": "1.2.0",
      "model_name": "HBoxModel",
      "state": {
       "children": [
        "IPY_MODEL_d99c7b265219468f904f6c00fe11824d",
        "IPY_MODEL_ba97d8f77e8b48c9aa67abcf9d236f1d",
        "IPY_MODEL_d2fd13cca5f149a6bda5cf453c869a08"
       ],
       "layout": "IPY_MODEL_f4aec34a892444a3b32f8c0a8cbc345e"
      }
     },
     "5fb1a9f2bd994aa1a1c04d2107c139ba": {
      "model_module": "@jupyter-widgets/base",
      "model_module_version": "1.0.0",
      "model_name": "LayoutModel",
      "state": {}
     },
     "5fb8381814cc4761a24a1cbfa75290fb": {
      "model_module": "@jupyter-widgets/controls",
      "model_module_version": "1.2.0",
      "model_name": "ButtonStyleModel",
      "state": {}
     },
     "608bb7596a8f4723b5b54773d22271b1": {
      "model_module": "@jupyter-widgets/controls",
      "model_module_version": "1.2.0",
      "model_name": "DescriptionStyleModel",
      "state": {
       "description_width": ""
      }
     },
     "6098f626c363416cacdd4bc64e4e8c62": {
      "model_module": "@jupyter-widgets/controls",
      "model_module_version": "1.2.0",
      "model_name": "ButtonModel",
      "state": {
       "description": "Kill",
       "layout": "IPY_MODEL_0425e796cbe447bbbe7ca633c2724347",
       "style": "IPY_MODEL_f754f3caa8bd4b15a62419224a40a1f8"
      }
     },
     "60eeb249a86247e2942362406f3906ee": {
      "model_module": "@jupyter-widgets/controls",
      "model_module_version": "1.2.0",
      "model_name": "HBoxModel",
      "state": {
       "children": [
        "IPY_MODEL_f00c6d9b74074cf58371345d3b7e3afc",
        "IPY_MODEL_4baa35b1343d4eda9561660926e057a2",
        "IPY_MODEL_520325550a5c446d9db14c416cdb29e1"
       ],
       "layout": "IPY_MODEL_aafa83ea14cc4350aa6884d9d8bbd376"
      }
     },
     "629087c78c48459fb4b6f47c3ff5b064": {
      "model_module": "@jupyter-widgets/base",
      "model_module_version": "1.0.0",
      "model_name": "LayoutModel",
      "state": {}
     },
     "634e6bcb0b214a44a7716fba29ccd0f9": {
      "model_module": "@jupyter-widgets/base",
      "model_module_version": "1.0.0",
      "model_name": "LayoutModel",
      "state": {}
     },
     "647e76684cb54e7ebbf4be9bbd1f837f": {
      "model_module": "@jupyter-widgets/controls",
      "model_module_version": "1.2.0",
      "model_name": "CheckboxModel",
      "state": {
       "description": "Show GPU usage",
       "disabled": false,
       "layout": "IPY_MODEL_8daadb0227574c7b9ff039bd9a103edd",
       "style": "IPY_MODEL_bff6455c8b1449b9b8e81111e56e87fa",
       "value": true
      }
     },
     "64c9b169c636423390d3f49ee26775e3": {
      "model_module": "@jupyter-widgets/controls",
      "model_module_version": "1.2.0",
      "model_name": "ButtonModel",
      "state": {
       "description": "Refresh",
       "layout": "IPY_MODEL_2876ed789c75463ea563721429b63883",
       "style": "IPY_MODEL_ca317f744234456987732f43b8fc6624"
      }
     },
     "65cf1c7fd9204711af92864cc3900a24": {
      "model_module": "@jupyter-widgets/controls",
      "model_module_version": "1.2.0",
      "model_name": "TextModel",
      "state": {
       "description": "Kill Process ",
       "layout": "IPY_MODEL_8fbeff90b5c4416c9447fa36b7234179",
       "placeholder": "Enter PID",
       "style": "IPY_MODEL_de78696526b7486eb33ba5652436d8df"
      }
     },
     "65d08842923b4d5b9271ac77e145c069": {
      "model_module": "@jupyter-widgets/base",
      "model_module_version": "1.0.0",
      "model_name": "LayoutModel",
      "state": {}
     },
     "661da3beaa4843299b0d0316dd644e1b": {
      "model_module": "@jupyter-widgets/controls",
      "model_module_version": "1.2.0",
      "model_name": "DescriptionStyleModel",
      "state": {
       "description_width": ""
      }
     },
     "663d0dccfa6c40a1b6b94252190230a6": {
      "model_module": "@jupyter-widgets/controls",
      "model_module_version": "1.2.0",
      "model_name": "DescriptionStyleModel",
      "state": {
       "description_width": ""
      }
     },
     "663ecf158eb64478b4430ca06b7c4998": {
      "model_module": "@jupyter-widgets/controls",
      "model_module_version": "1.2.0",
      "model_name": "DropdownModel",
      "state": {
       "_options_labels": [
        "Anno",
        "img_align_celeba.zip",
        "ZGPDS300",
        "Script iden.zip",
        "DatsetBangla.tar.gz",
        "ICDAR.tar.gz",
        "Font_data.zip",
        "font datset.zip",
        "DatsetBangla.rar",
        "script2scriptdata.zip",
        "iamhand2print.zip",
        "script_data.tar.gz",
        "trainingSet.tar.gz",
        "GPDSSyntheticSignaturesManuscriptmnhgfr.rar",
        "printd.zip",
        "IAMhand2print.zip",
        "IAMhand2printv2.zip",
        "IAMhand2printv3.zip",
        "gpds300.zip",
        "ALL Words Datasets.zip",
        "Signature datasets.zip",
        "CVSI -2015.rar",
        "SIW-13.rar",
        "Script.zip",
        "ICDAR_norm.zip",
        "ICDAR_samp.zip",
        "edges2shoes.tar.gz.1",
        "edges2shoes.tar.gz.2",
        "edges2shoes.tar.gz",
        "edges2handbags.tar.gz.1",
        "edges2handbags.tar.gz"
       ],
       "description": "Dataset",
       "index": 0,
       "layout": "IPY_MODEL_e39ccc7443f041bbae059ff6175372ae",
       "style": "IPY_MODEL_b1fcfcb3e70949b0962dfbda63f171be"
      }
     },
     "66dec4f5508d41c48c8952790558e98d": {
      "model_module": "@jupyter-widgets/base",
      "model_module_version": "1.0.0",
      "model_name": "LayoutModel",
      "state": {}
     },
     "68610e96bedf4da49947346bd6d4b44f": {
      "model_module": "@jupyter-widgets/controls",
      "model_module_version": "1.2.0",
      "model_name": "VBoxModel",
      "state": {
       "_dom_classes": [
        "widget-interact"
       ],
       "children": [
        "IPY_MODEL_844ea3b63615448c85812e22bee78fea",
        "IPY_MODEL_f5b58409a7604e9aa8a0f5daec5687e9"
       ],
       "layout": "IPY_MODEL_8f393ba18eaf4a229d49cc6d22a50706"
      }
     },
     "68849b05b2f6463b9e96fa9caea7a862": {
      "model_module": "@jupyter-widgets/controls",
      "model_module_version": "1.2.0",
      "model_name": "ButtonStyleModel",
      "state": {}
     },
     "68b917abda034898874632996c0b15ff": {
      "model_module": "@jupyter-widgets/controls",
      "model_module_version": "1.2.0",
      "model_name": "ToggleButtonModel",
      "state": {
       "description": "Remove Trashes",
       "layout": "IPY_MODEL_f57b764d1aa04c0eb6a7e4112cbf355e",
       "style": "IPY_MODEL_f9493eacf6524807b80b1b4f5f7eae19"
      }
     },
     "68c553a3a13e469f9d1d86460a7f45a5": {
      "model_module": "@jupyter-widgets/base",
      "model_module_version": "1.0.0",
      "model_name": "LayoutModel",
      "state": {}
     },
     "68f322bd917b400c9b9378f237e6f4a0": {
      "model_module": "@jupyter-widgets/controls",
      "model_module_version": "1.2.0",
      "model_name": "HBoxModel",
      "state": {
       "children": [
        "IPY_MODEL_65cf1c7fd9204711af92864cc3900a24",
        "IPY_MODEL_2a1cbf766fb348e6a1262357ef645ac2"
       ],
       "layout": "IPY_MODEL_dfb2edd159364fd08e1ad92f511ef82a"
      }
     },
     "68ffa2d9f9c34676afcb09c90860f727": {
      "model_module": "@jupyter-widgets/controls",
      "model_module_version": "1.2.0",
      "model_name": "ButtonStyleModel",
      "state": {}
     },
     "6c37df6656274920b11448ac30dcc751": {
      "model_module": "@jupyter-widgets/controls",
      "model_module_version": "1.2.0",
      "model_name": "ButtonStyleModel",
      "state": {}
     },
     "6e072f8eb0744302af234bf45a5ab9cb": {
      "model_module": "@jupyter-widgets/base",
      "model_module_version": "1.0.0",
      "model_name": "LayoutModel",
      "state": {}
     },
     "704329942a9b49e495a4ae22893ee804": {
      "model_module": "@jupyter-widgets/controls",
      "model_module_version": "1.2.0",
      "model_name": "CheckboxModel",
      "state": {
       "description": "Show Running Programs",
       "disabled": false,
       "layout": "IPY_MODEL_c0da8eacaa3a4de098c16eadd8b88707",
       "style": "IPY_MODEL_8f156bde8ce847e7b56175b37665f746",
       "value": true
      }
     },
     "713905d78d534fb985d65e531f47a13e": {
      "model_module": "@jupyter-widgets/base",
      "model_module_version": "1.0.0",
      "model_name": "LayoutModel",
      "state": {}
     },
     "71716d6753dc4aeca74d32aa7892e70f": {
      "model_module": "@jupyter-widgets/controls",
      "model_module_version": "1.2.0",
      "model_name": "ButtonStyleModel",
      "state": {}
     },
     "71b9705c01324822b1c85ce983ea39d3": {
      "model_module": "@jupyter-widgets/controls",
      "model_module_version": "1.2.0",
      "model_name": "DescriptionStyleModel",
      "state": {
       "description_width": ""
      }
     },
     "7259856b50cc4ff8a16d141987a42927": {
      "model_module": "@jupyter-widgets/controls",
      "model_module_version": "1.2.0",
      "model_name": "HBoxModel",
      "state": {
       "children": [
        "IPY_MODEL_a47a94c2189f47ad91e1f345ccff7d68",
        "IPY_MODEL_bc4db4b0c0ff4f0989a4458ade278c2f"
       ],
       "layout": "IPY_MODEL_e97935e5572b44d0870403d527fb7f60"
      }
     },
     "733e524e39084537b43a1b1128001b99": {
      "model_module": "@jupyter-widgets/controls",
      "model_module_version": "1.2.0",
      "model_name": "HBoxModel",
      "state": {
       "children": [
        "IPY_MODEL_787e679afac84b50aec673e2593afa95",
        "IPY_MODEL_5cfe054fb8b94b8ba3fff0ac8de44427"
       ],
       "layout": "IPY_MODEL_27c92306bf884467904fcad2c0495583"
      }
     },
     "75a9193597514db8943372d93e00aa33": {
      "model_module": "@jupyter-widgets/base",
      "model_module_version": "1.0.0",
      "model_name": "LayoutModel",
      "state": {}
     },
     "75cc9b3b16154afeb4b40f30b22af0f1": {
      "model_module": "@jupyter-widgets/base",
      "model_module_version": "1.0.0",
      "model_name": "LayoutModel",
      "state": {}
     },
     "761a65cb872c47d6834336e1c0eb0759": {
      "model_module": "@jupyter-widgets/controls",
      "model_module_version": "1.2.0",
      "model_name": "DescriptionStyleModel",
      "state": {
       "description_width": ""
      }
     },
     "76d913e7a5b74945a4abcf3714491b70": {
      "model_module": "@jupyter-widgets/controls",
      "model_module_version": "1.2.0",
      "model_name": "DescriptionStyleModel",
      "state": {
       "description_width": ""
      }
     },
     "77baa527c3fc4190b9062c7b982d3413": {
      "model_module": "@jupyter-widgets/base",
      "model_module_version": "1.0.0",
      "model_name": "LayoutModel",
      "state": {}
     },
     "77e4044ea08c42959296449a63a6af91": {
      "model_module": "@jupyter-widgets/base",
      "model_module_version": "1.0.0",
      "model_name": "LayoutModel",
      "state": {}
     },
     "787e679afac84b50aec673e2593afa95": {
      "model_module": "@jupyter-widgets/controls",
      "model_module_version": "1.2.0",
      "model_name": "TextModel",
      "state": {
       "description": "Kill Process ",
       "layout": "IPY_MODEL_b698aea27c1f4e98bdaaa52d4a699b8b",
       "placeholder": "Enter PID",
       "style": "IPY_MODEL_3aa69daed02b4265bda09a9fc59f2b2f"
      }
     },
     "794bac2f2b1c41a9a9a2e29a46773767": {
      "model_module": "@jupyter-widgets/controls",
      "model_module_version": "1.2.0",
      "model_name": "DescriptionStyleModel",
      "state": {
       "description_width": ""
      }
     },
     "7a71c706ce0f4ddd96ca8962339c81ce": {
      "model_module": "@jupyter-widgets/controls",
      "model_module_version": "1.2.0",
      "model_name": "CheckboxModel",
      "state": {
       "description": "Show Running Programs",
       "disabled": false,
       "layout": "IPY_MODEL_413904979c1b4f0bb9c371bb978ab8d7",
       "style": "IPY_MODEL_45b6e9d0563d47de829211bf3a997e95",
       "value": true
      }
     },
     "7b5194c74d2b4f7db7567eb8ab3f8329": {
      "model_module": "@jupyter-widgets/controls",
      "model_module_version": "1.2.0",
      "model_name": "HBoxModel",
      "state": {
       "children": [
        "IPY_MODEL_1bc7a501f7f74cd98a102b411ebd2fc7",
        "IPY_MODEL_5aea50c8559148a19fd49b8eb43ef79c"
       ],
       "layout": "IPY_MODEL_0f2ab41ae35c4ed78167cabf14400856"
      }
     },
     "7b6f9e3463034ab5b0e07f4d9f182e11": {
      "model_module": "@jupyter-widgets/controls",
      "model_module_version": "1.2.0",
      "model_name": "ButtonStyleModel",
      "state": {}
     },
     "7bf6d249968741c7986ad1f221331fc5": {
      "model_module": "@jupyter-widgets/base",
      "model_module_version": "1.0.0",
      "model_name": "LayoutModel",
      "state": {}
     },
     "7cfb58175ab44e9bb3bf713d277c0211": {
      "model_module": "@jupyter-widgets/controls",
      "model_module_version": "1.2.0",
      "model_name": "CheckboxModel",
      "state": {
       "description": "Show GPU usage",
       "disabled": false,
       "layout": "IPY_MODEL_83a1d9d42b614fd79214a74eeea33328",
       "style": "IPY_MODEL_9daae0d20ed64b9292067d4ffc08d239",
       "value": true
      }
     },
     "7dd513bba9fa4401a927981b27355ad1": {
      "model_module": "@jupyter-widgets/controls",
      "model_module_version": "1.2.0",
      "model_name": "DescriptionStyleModel",
      "state": {
       "description_width": ""
      }
     },
     "7e10bad4e632476e950ae626b9404ef3": {
      "model_module": "@jupyter-widgets/controls",
      "model_module_version": "1.2.0",
      "model_name": "HBoxModel",
      "state": {
       "children": [
        "IPY_MODEL_12b25ffe40b742c89155e3303dc62c27",
        "IPY_MODEL_8b5e39b708fe4b3e9e5527977e4dcec8"
       ],
       "layout": "IPY_MODEL_91948d0d377d48869c40261bda3a1a01"
      }
     },
     "7f5ccf4856cd4e468191d48aa1e401ea": {
      "model_module": "@jupyter-widgets/controls",
      "model_module_version": "1.2.0",
      "model_name": "DescriptionStyleModel",
      "state": {
       "description_width": ""
      }
     },
     "800388a7d4b24aa3a89b32708f8f144f": {
      "model_module": "@jupyter-widgets/base",
      "model_module_version": "1.0.0",
      "model_name": "LayoutModel",
      "state": {}
     },
     "80c9b75c6c3540268908e101fad5fe4a": {
      "model_module": "@jupyter-widgets/base",
      "model_module_version": "1.0.0",
      "model_name": "LayoutModel",
      "state": {}
     },
     "82e8c2a3f48a4b7dba677fe42acfbbaf": {
      "model_module": "@jupyter-widgets/base",
      "model_module_version": "1.0.0",
      "model_name": "LayoutModel",
      "state": {}
     },
     "83a1d9d42b614fd79214a74eeea33328": {
      "model_module": "@jupyter-widgets/base",
      "model_module_version": "1.0.0",
      "model_name": "LayoutModel",
      "state": {}
     },
     "83ad58481e6a457a8adf7a3888f413af": {
      "model_module": "@jupyter-widgets/base",
      "model_module_version": "1.0.0",
      "model_name": "LayoutModel",
      "state": {}
     },
     "83bd9f56e9f14e9790f38a5b6dc8aaf8": {
      "model_module": "@jupyter-widgets/controls",
      "model_module_version": "1.2.0",
      "model_name": "HBoxModel",
      "state": {
       "children": [
        "IPY_MODEL_b284d83b60a848fbba29933bb5c15d08",
        "IPY_MODEL_ebd28453c3014c758004205a8112d7d5",
        "IPY_MODEL_f3c7fe88437d406fae9fafbc2c63055b"
       ],
       "layout": "IPY_MODEL_dc6ddabac8034f7e98bd7d5e4acc4faf"
      }
     },
     "83f670e50c18435aad4a7f12a549f573": {
      "model_module": "@jupyter-widgets/base",
      "model_module_version": "1.0.0",
      "model_name": "LayoutModel",
      "state": {}
     },
     "844ea3b63615448c85812e22bee78fea": {
      "model_module": "@jupyter-widgets/controls",
      "model_module_version": "1.2.0",
      "model_name": "TextModel",
      "state": {
       "description": "Commands",
       "layout": "IPY_MODEL_20fd87ad703b4058a7dc1a2b61d06e16",
       "style": "IPY_MODEL_794bac2f2b1c41a9a9a2e29a46773767"
      }
     },
     "8476979b00c14eb79ed45c668adeb49f": {
      "model_module": "@jupyter-widgets/controls",
      "model_module_version": "1.2.0",
      "model_name": "DescriptionStyleModel",
      "state": {
       "description_width": ""
      }
     },
     "84f1ba0f1c8d418aa79019836be2f5e4": {
      "model_module": "@jupyter-widgets/base",
      "model_module_version": "1.0.0",
      "model_name": "LayoutModel",
      "state": {}
     },
     "85561252ac6b46558ff909f81d155668": {
      "model_module": "@jupyter-widgets/controls",
      "model_module_version": "1.2.0",
      "model_name": "TextModel",
      "state": {
       "description": "Kill Process ",
       "layout": "IPY_MODEL_634e6bcb0b214a44a7716fba29ccd0f9",
       "placeholder": "Enter PID",
       "style": "IPY_MODEL_087aee8c1e174b62916ca541c60fcce5"
      }
     },
     "85788135d8a646809a54d4b73c335fd4": {
      "model_module": "@jupyter-widgets/base",
      "model_module_version": "1.0.0",
      "model_name": "LayoutModel",
      "state": {}
     },
     "8613fc0b5be5423f946c644eda2bcb33": {
      "model_module": "@jupyter-widgets/controls",
      "model_module_version": "1.2.0",
      "model_name": "DescriptionStyleModel",
      "state": {
       "description_width": ""
      }
     },
     "86353365c7fd4996b65dafeba9bd525f": {
      "model_module": "@jupyter-widgets/base",
      "model_module_version": "1.0.0",
      "model_name": "LayoutModel",
      "state": {}
     },
     "86a8a10f09e2479d80c8e5cd63b04fe6": {
      "model_module": "@jupyter-widgets/controls",
      "model_module_version": "1.2.0",
      "model_name": "DropdownModel",
      "state": {
       "_options_labels": [
        "localtunnel",
        "ngrok"
       ],
       "description": "Server",
       "index": 0,
       "layout": "IPY_MODEL_85788135d8a646809a54d4b73c335fd4",
       "style": "IPY_MODEL_7dd513bba9fa4401a927981b27355ad1"
      }
     },
     "87ea355a1b504033b91fc81ab63ad5a2": {
      "model_module": "@jupyter-widgets/controls",
      "model_module_version": "1.2.0",
      "model_name": "TextModel",
      "state": {
       "description": "Commands",
       "layout": "IPY_MODEL_f8d423d7ec5042f79e11be6966f4fcd4",
       "style": "IPY_MODEL_542b7a7aef1c4895b3ca0cb455094897"
      }
     },
     "87eab4e1a21f4e6187a927205aa4fb4f": {
      "model_module": "@jupyter-widgets/base",
      "model_module_version": "1.0.0",
      "model_name": "LayoutModel",
      "state": {}
     },
     "885b83154a034c69b4ac974ff0dd7071": {
      "model_module": "@jupyter-widgets/controls",
      "model_module_version": "1.2.0",
      "model_name": "DescriptionStyleModel",
      "state": {
       "description_width": ""
      }
     },
     "886b10775dda48c0b47f594172d208f8": {
      "model_module": "@jupyter-widgets/controls",
      "model_module_version": "1.2.0",
      "model_name": "ButtonStyleModel",
      "state": {}
     },
     "8af95ce81c4c41b28c5fd779150c6ef9": {
      "model_module": "@jupyter-widgets/controls",
      "model_module_version": "1.2.0",
      "model_name": "DescriptionStyleModel",
      "state": {
       "description_width": ""
      }
     },
     "8b5e39b708fe4b3e9e5527977e4dcec8": {
      "model_module": "@jupyter-widgets/controls",
      "model_module_version": "1.2.0",
      "model_name": "ButtonModel",
      "state": {
       "description": "Extract",
       "layout": "IPY_MODEL_4b93d786d337436eb7a7a853e18be0b4",
       "style": "IPY_MODEL_2c45f69b229045d48fb66e780fd344c7"
      }
     },
     "8cae28787c4544e8851243a9529d3da5": {
      "model_module": "@jupyter-widgets/base",
      "model_module_version": "1.0.0",
      "model_name": "LayoutModel",
      "state": {}
     },
     "8ce0d7dac0d74085bdce704a8414d626": {
      "model_module": "@jupyter-widgets/base",
      "model_module_version": "1.0.0",
      "model_name": "LayoutModel",
      "state": {}
     },
     "8d076a1ab89947d295e9eeefe62add8d": {
      "model_module": "@jupyter-widgets/base",
      "model_module_version": "1.0.0",
      "model_name": "LayoutModel",
      "state": {}
     },
     "8d6ef9e15ada44cc82a2afdc74c9d333": {
      "model_module": "@jupyter-widgets/controls",
      "model_module_version": "1.2.0",
      "model_name": "DropdownModel",
      "state": {
       "_options_labels": [
        "localtunnel",
        "ngrok"
       ],
       "description": "Server",
       "index": 0,
       "layout": "IPY_MODEL_5fb1a9f2bd994aa1a1c04d2107c139ba",
       "style": "IPY_MODEL_05bec9fea5364817baf738ab290d18d0"
      }
     },
     "8daadb0227574c7b9ff039bd9a103edd": {
      "model_module": "@jupyter-widgets/base",
      "model_module_version": "1.0.0",
      "model_name": "LayoutModel",
      "state": {}
     },
     "8e773becc4af4bf3b3b3f988d0b80168": {
      "model_module": "@jupyter-widgets/controls",
      "model_module_version": "1.2.0",
      "model_name": "ToggleButtonModel",
      "state": {
       "description": "Remove Trashes",
       "layout": "IPY_MODEL_6e072f8eb0744302af234bf45a5ab9cb",
       "style": "IPY_MODEL_8af95ce81c4c41b28c5fd779150c6ef9"
      }
     },
     "8f156bde8ce847e7b56175b37665f746": {
      "model_module": "@jupyter-widgets/controls",
      "model_module_version": "1.2.0",
      "model_name": "DescriptionStyleModel",
      "state": {
       "description_width": ""
      }
     },
     "8f393ba18eaf4a229d49cc6d22a50706": {
      "model_module": "@jupyter-widgets/base",
      "model_module_version": "1.0.0",
      "model_name": "LayoutModel",
      "state": {}
     },
     "8fbeff90b5c4416c9447fa36b7234179": {
      "model_module": "@jupyter-widgets/base",
      "model_module_version": "1.0.0",
      "model_name": "LayoutModel",
      "state": {}
     },
     "908afddf380148389f5662bbcb7321a0": {
      "model_module": "@jupyter-widgets/controls",
      "model_module_version": "1.2.0",
      "model_name": "ButtonModel",
      "state": {
       "description": "Extract",
       "layout": "IPY_MODEL_f256d3a128bd4a3c9831fff066876002",
       "style": "IPY_MODEL_350562c3e91e4e928f0c51068875c44d"
      }
     },
     "90acd4604f974f1aa8830286dc47878c": {
      "model_module": "@jupyter-widgets/controls",
      "model_module_version": "1.2.0",
      "model_name": "CheckboxModel",
      "state": {
       "description": "Show GPU usage",
       "disabled": false,
       "layout": "IPY_MODEL_2286435140fb4bfeb92da2c2117b662b",
       "style": "IPY_MODEL_de2db0856d774ded90dd802c83330fab",
       "value": true
      }
     },
     "90afe5eec74b4fba95810cf73c9f26de": {
      "model_module": "@jupyter-widgets/controls",
      "model_module_version": "1.2.0",
      "model_name": "ButtonModel",
      "state": {
       "description": "Extract",
       "layout": "IPY_MODEL_065cecbc6ab7453a812431357c7c0e16",
       "style": "IPY_MODEL_71716d6753dc4aeca74d32aa7892e70f"
      }
     },
     "91948d0d377d48869c40261bda3a1a01": {
      "model_module": "@jupyter-widgets/base",
      "model_module_version": "1.0.0",
      "model_name": "LayoutModel",
      "state": {}
     },
     "91f796ba0fcf4eaebdd1fea4c6c2256d": {
      "model_module": "@jupyter-widgets/controls",
      "model_module_version": "1.2.0",
      "model_name": "DescriptionStyleModel",
      "state": {
       "description_width": ""
      }
     },
     "9306ac60809a42118fd1812063a1cfb6": {
      "model_module": "@jupyter-widgets/controls",
      "model_module_version": "1.2.0",
      "model_name": "ToggleButtonModel",
      "state": {
       "button_style": "success",
       "description": "Initialize",
       "layout": "IPY_MODEL_713905d78d534fb985d65e531f47a13e",
       "style": "IPY_MODEL_b52c0ecf5aa64eb395645d37bfe65706"
      }
     },
     "96c6bf2991374668b9ef86288a03f332": {
      "model_module": "@jupyter-widgets/controls",
      "model_module_version": "1.2.0",
      "model_name": "VBoxModel",
      "state": {
       "children": [
        "IPY_MODEL_aa9396af640d4230aa89ba7e9107806f",
        "IPY_MODEL_41a7269fa51646e68e973f3b2a369a9a",
        "IPY_MODEL_d37bc6ae2be644b0b15dbf739808471a",
        "IPY_MODEL_5e6c51762b854fe1a515635d317d33f9",
        "IPY_MODEL_08a13ab1b695497abe9969dcf36ca081"
       ],
       "layout": "IPY_MODEL_f6db54f043c34eb49e7af1eb506c88ef"
      }
     },
     "980e103a6fb84105842cc1d6954294be": {
      "model_module": "@jupyter-widgets/controls",
      "model_module_version": "1.2.0",
      "model_name": "DescriptionStyleModel",
      "state": {
       "description_width": ""
      }
     },
     "98255dfd112c428c9e4733d433ed8649": {
      "model_module": "@jupyter-widgets/base",
      "model_module_version": "1.0.0",
      "model_name": "LayoutModel",
      "state": {}
     },
     "98bc681078ab40768e4a3f85d0416b89": {
      "model_module": "@jupyter-widgets/base",
      "model_module_version": "1.0.0",
      "model_name": "LayoutModel",
      "state": {}
     },
     "9a25fde85fe24c4a86fc5f0eebe4f2ff": {
      "model_module": "@jupyter-widgets/base",
      "model_module_version": "1.0.0",
      "model_name": "LayoutModel",
      "state": {}
     },
     "9a7df88fa14d41ec8d215bfad74548bf": {
      "model_module": "@jupyter-widgets/controls",
      "model_module_version": "1.2.0",
      "model_name": "ButtonStyleModel",
      "state": {}
     },
     "9ac73c3462b844268d01a77541afc260": {
      "model_module": "@jupyter-widgets/base",
      "model_module_version": "1.0.0",
      "model_name": "LayoutModel",
      "state": {}
     },
     "9c42978bd9604c7ea936e7f76ab8d910": {
      "model_module": "@jupyter-widgets/controls",
      "model_module_version": "1.2.0",
      "model_name": "DescriptionStyleModel",
      "state": {
       "description_width": ""
      }
     },
     "9d025a69a5d34b05a2d3a84a156c84fd": {
      "model_module": "@jupyter-widgets/controls",
      "model_module_version": "1.2.0",
      "model_name": "DescriptionStyleModel",
      "state": {
       "description_width": ""
      }
     },
     "9d1da24613154839b5a1688ff570a833": {
      "model_module": "@jupyter-widgets/controls",
      "model_module_version": "1.2.0",
      "model_name": "ButtonModel",
      "state": {
       "description": "Get Jupyter Link",
       "layout": "IPY_MODEL_f3f6c7d9f32a4f1ba238cc13d582f327",
       "style": "IPY_MODEL_9a7df88fa14d41ec8d215bfad74548bf"
      }
     },
     "9d319d0babfd4de3a8bad8f9ac3fabb7": {
      "model_module": "@jupyter-widgets/controls",
      "model_module_version": "1.2.0",
      "model_name": "ToggleButtonModel",
      "state": {
       "description": "Remove Trashes",
       "layout": "IPY_MODEL_168a5282745743098d61ff59f8d88415",
       "style": "IPY_MODEL_fcac1a8f2d0d46dcae9ed414875cc978"
      }
     },
     "9daae0d20ed64b9292067d4ffc08d239": {
      "model_module": "@jupyter-widgets/controls",
      "model_module_version": "1.2.0",
      "model_name": "DescriptionStyleModel",
      "state": {
       "description_width": ""
      }
     },
     "9e7ea6c926cd413aa410b8c70838d1d6": {
      "model_module": "@jupyter-widgets/controls",
      "model_module_version": "1.2.0",
      "model_name": "ButtonModel",
      "state": {
       "description": "Extract",
       "layout": "IPY_MODEL_83f670e50c18435aad4a7f12a549f573",
       "style": "IPY_MODEL_6c37df6656274920b11448ac30dcc751"
      }
     },
     "9f459f77daa24370995d5a3de572937f": {
      "model_module": "@jupyter-widgets/controls",
      "model_module_version": "1.2.0",
      "model_name": "ButtonStyleModel",
      "state": {}
     },
     "a09a4a6c0a4a4c16a803997fb484f262": {
      "model_module": "@jupyter-widgets/controls",
      "model_module_version": "1.2.0",
      "model_name": "HBoxModel",
      "state": {
       "children": [
        "IPY_MODEL_8d6ef9e15ada44cc82a2afdc74c9d333",
        "IPY_MODEL_c0ce61cd21be444bbd164bd13f44c767",
        "IPY_MODEL_3dae7772f0944c9fb42f1d7ccd5a99b2"
       ],
       "layout": "IPY_MODEL_2bebd62cd442492f8776abe52e521790"
      }
     },
     "a15d2651c5534b45964ab6963ab4a7c0": {
      "model_module": "@jupyter-widgets/controls",
      "model_module_version": "1.2.0",
      "model_name": "ButtonStyleModel",
      "state": {}
     },
     "a22e0a57c50547a4be11e9e8f572814f": {
      "model_module": "@jupyter-widgets/controls",
      "model_module_version": "1.2.0",
      "model_name": "DescriptionStyleModel",
      "state": {
       "description_width": ""
      }
     },
     "a243084d85954018af3db7b163010687": {
      "model_module": "@jupyter-widgets/controls",
      "model_module_version": "1.2.0",
      "model_name": "TextModel",
      "state": {
       "layout": "IPY_MODEL_b6bcd249929a40beb7c975feb7584e36",
       "placeholder": "Enter domain",
       "style": "IPY_MODEL_e50b2de2bbf24fd7b900c67dbd8ca0b1"
      }
     },
     "a47a94c2189f47ad91e1f345ccff7d68": {
      "model_module": "@jupyter-widgets/controls",
      "model_module_version": "1.2.0",
      "model_name": "ToggleButtonModel",
      "state": {
       "button_style": "success",
       "description": "Initialize",
       "layout": "IPY_MODEL_9a25fde85fe24c4a86fc5f0eebe4f2ff",
       "style": "IPY_MODEL_f3fd1fbd54644ea6b96d32f9405d8f26"
      }
     },
     "a63e2c4d5094489885555936208cfd31": {
      "model_module": "@jupyter-widgets/controls",
      "model_module_version": "1.2.0",
      "model_name": "TextModel",
      "state": {
       "layout": "IPY_MODEL_ffad785f98454f9c8eb3c8b72472ecff",
       "placeholder": "Enter domain",
       "style": "IPY_MODEL_980e103a6fb84105842cc1d6954294be"
      }
     },
     "a763ce11cd1249eab1d6e8895978b31e": {
      "model_module": "@jupyter-widgets/controls",
      "model_module_version": "1.2.0",
      "model_name": "DescriptionStyleModel",
      "state": {
       "description_width": ""
      }
     },
     "aa82918c89a64cc694bee15f50480761": {
      "model_module": "@jupyter-widgets/controls",
      "model_module_version": "1.2.0",
      "model_name": "DropdownModel",
      "state": {
       "_options_labels": [
        "Anno",
        "img_align_celeba.zip",
        "ZGPDS300",
        "Script iden.zip",
        "DatsetBangla.tar.gz",
        "ICDAR.tar.gz",
        "Font_data.zip",
        "font datset.zip",
        "DatsetBangla.rar",
        "script2scriptdata.zip",
        "iamhand2print.zip",
        "script_data.tar.gz",
        "trainingSet.tar.gz",
        "GPDSSyntheticSignaturesManuscriptmnhgfr.rar",
        "printd.zip",
        "IAMhand2print.zip",
        "IAMhand2printv2.zip",
        "IAMhand2printv3.zip",
        "gpds300.zip",
        "ALL Words Datasets.zip",
        "Signature datasets.zip",
        "CVSI -2015.rar",
        "SIW-13.rar",
        "Script.zip",
        "ICDAR_norm.zip",
        "ICDAR_samp.zip",
        "edges2shoes.tar.gz.1",
        "edges2shoes.tar.gz.2",
        "edges2shoes.tar.gz",
        "edges2handbags.tar.gz.1",
        "edges2handbags.tar.gz"
       ],
       "description": "Dataset",
       "index": 0,
       "layout": "IPY_MODEL_2e7771944316463c8e0aefefb19deea9",
       "style": "IPY_MODEL_2140c9d812544b47a8605e53854b184b"
      }
     },
     "aa9396af640d4230aa89ba7e9107806f": {
      "model_module": "@jupyter-widgets/controls",
      "model_module_version": "1.2.0",
      "model_name": "HBoxModel",
      "state": {
       "children": [
        "IPY_MODEL_59e717bcf1b74796bb6149cb7f896ee0",
        "IPY_MODEL_68b917abda034898874632996c0b15ff"
       ],
       "layout": "IPY_MODEL_c5c67355c77c4e52b62b3de861a51df6"
      }
     },
     "aafa83ea14cc4350aa6884d9d8bbd376": {
      "model_module": "@jupyter-widgets/base",
      "model_module_version": "1.0.0",
      "model_name": "LayoutModel",
      "state": {}
     },
     "aca2e762e86648e7ad606799590efbcd": {
      "model_module": "@jupyter-widgets/base",
      "model_module_version": "1.0.0",
      "model_name": "LayoutModel",
      "state": {}
     },
     "aceacf7456fd4e349069903641cf33d0": {
      "model_module": "@jupyter-widgets/controls",
      "model_module_version": "1.2.0",
      "model_name": "ButtonStyleModel",
      "state": {}
     },
     "af2f04aa7be64cde8929e27c1d51512d": {
      "model_module": "@jupyter-widgets/controls",
      "model_module_version": "1.2.0",
      "model_name": "DescriptionStyleModel",
      "state": {
       "description_width": ""
      }
     },
     "afee51bf586e4181ad00e45a84cff93c": {
      "model_module": "@jupyter-widgets/controls",
      "model_module_version": "1.2.0",
      "model_name": "DescriptionStyleModel",
      "state": {
       "description_width": ""
      }
     },
     "b14f39966199441c873d1a5b83b5d25b": {
      "model_module": "@jupyter-widgets/controls",
      "model_module_version": "1.2.0",
      "model_name": "HBoxModel",
      "state": {
       "children": [
        "IPY_MODEL_7cfb58175ab44e9bb3bf713d277c0211",
        "IPY_MODEL_704329942a9b49e495a4ae22893ee804",
        "IPY_MODEL_59a6f8380865497e97a0963b7dc2c4c6"
       ],
       "layout": "IPY_MODEL_400153b539e344f4909230d31f6a92ab"
      }
     },
     "b1c0a258a12d481082b5ad09a17f8321": {
      "model_module": "@jupyter-widgets/controls",
      "model_module_version": "1.2.0",
      "model_name": "HBoxModel",
      "state": {
       "children": [
        "IPY_MODEL_13b46f32825d4bfaa614c8cbca2f4482",
        "IPY_MODEL_8e773becc4af4bf3b3b3f988d0b80168"
       ],
       "layout": "IPY_MODEL_2bbd27b0b5b346cfac40d44eb276ba9b"
      }
     },
     "b1fcfcb3e70949b0962dfbda63f171be": {
      "model_module": "@jupyter-widgets/controls",
      "model_module_version": "1.2.0",
      "model_name": "DescriptionStyleModel",
      "state": {
       "description_width": ""
      }
     },
     "b284d83b60a848fbba29933bb5c15d08": {
      "model_module": "@jupyter-widgets/controls",
      "model_module_version": "1.2.0",
      "model_name": "DropdownModel",
      "state": {
       "_options_labels": [
        "localtunnel",
        "ngrok"
       ],
       "description": "Server",
       "index": 1,
       "layout": "IPY_MODEL_02a2f86730ee4e8b837f12bfe0923d65",
       "style": "IPY_MODEL_4e827113e21b4b57a12c83bf168eafa2"
      }
     },
     "b360f49995e44ccdbc1911e4abd6a668": {
      "model_module": "@jupyter-widgets/base",
      "model_module_version": "1.0.0",
      "model_name": "LayoutModel",
      "state": {}
     },
     "b52c0ecf5aa64eb395645d37bfe65706": {
      "model_module": "@jupyter-widgets/controls",
      "model_module_version": "1.2.0",
      "model_name": "DescriptionStyleModel",
      "state": {
       "description_width": ""
      }
     },
     "b57753b6382e4f83ba5b64231cdc61c7": {
      "model_module": "@jupyter-widgets/controls",
      "model_module_version": "1.2.0",
      "model_name": "VBoxModel",
      "state": {
       "_dom_classes": [
        "widget-interact"
       ],
       "children": [
        "IPY_MODEL_87ea355a1b504033b91fc81ab63ad5a2",
        "IPY_MODEL_bb445e0476f64933bec79f14e909238f"
       ],
       "layout": "IPY_MODEL_c4e819069a024ff980053dc7462ae6dc"
      }
     },
     "b645ace1c0cd46f2a4f05dadbaf9ae69": {
      "model_module": "@jupyter-widgets/controls",
      "model_module_version": "1.2.0",
      "model_name": "HBoxModel",
      "state": {
       "children": [
        "IPY_MODEL_2f7fd8f37ca84152bf2e0d64f451fc2a",
        "IPY_MODEL_a243084d85954018af3db7b163010687",
        "IPY_MODEL_d077462bd6ae406a8d5ca27f3879dc64"
       ],
       "layout": "IPY_MODEL_0c8704cf9efa4657803718861e85763e"
      }
     },
     "b698aea27c1f4e98bdaaa52d4a699b8b": {
      "model_module": "@jupyter-widgets/base",
      "model_module_version": "1.0.0",
      "model_name": "LayoutModel",
      "state": {}
     },
     "b6bcd249929a40beb7c975feb7584e36": {
      "model_module": "@jupyter-widgets/base",
      "model_module_version": "1.0.0",
      "model_name": "LayoutModel",
      "state": {}
     },
     "b736174070a844eca8c2e48f1f1d4549": {
      "model_module": "@jupyter-widgets/controls",
      "model_module_version": "1.2.0",
      "model_name": "ButtonModel",
      "state": {
       "description": "Get Jupyter Link",
       "layout": "IPY_MODEL_65d08842923b4d5b9271ac77e145c069",
       "style": "IPY_MODEL_7b6f9e3463034ab5b0e07f4d9f182e11"
      }
     },
     "b87a6b75164d4e15a3a13eb26f4263e8": {
      "model_module": "@jupyter-widgets/base",
      "model_module_version": "1.0.0",
      "model_name": "LayoutModel",
      "state": {}
     },
     "b9634479ebc14e698f08016afe9e63b0": {
      "model_module": "@jupyter-widgets/base",
      "model_module_version": "1.0.0",
      "model_name": "LayoutModel",
      "state": {}
     },
     "ba97d8f77e8b48c9aa67abcf9d236f1d": {
      "model_module": "@jupyter-widgets/controls",
      "model_module_version": "1.2.0",
      "model_name": "CheckboxModel",
      "state": {
       "description": "Show Running Programs",
       "disabled": false,
       "layout": "IPY_MODEL_ccc6dfbfe1e74ee08d5f05d15c3b6a3b",
       "style": "IPY_MODEL_18b33b27318849c4b83ece965b52a5c3",
       "value": true
      }
     },
     "bafdf854feeb4f0cbae3289c3d544017": {
      "model_module": "@jupyter-widgets/controls",
      "model_module_version": "1.2.0",
      "model_name": "DropdownModel",
      "state": {
       "_options_labels": [
        "Anno",
        "img_align_celeba.zip",
        "ZGPDS300",
        "Script iden.zip",
        "DatsetBangla.tar.gz",
        "ICDAR.tar.gz",
        "Font_data.zip",
        "font datset.zip",
        "DatsetBangla.rar",
        "script2scriptdata.zip",
        "iamhand2print.zip",
        "script_data.tar.gz",
        "trainingSet.tar.gz",
        "GPDSSyntheticSignaturesManuscriptmnhgfr.rar",
        "printd.zip",
        "IAMhand2print.zip",
        "IAMhand2printv2.zip",
        "IAMhand2printv3.zip",
        "gpds300.zip",
        "ALL Words Datasets.zip",
        "Signature datasets.zip",
        "CVSI -2015.rar",
        "SIW-13.rar",
        "Script.zip",
        "ICDAR_norm.zip",
        "ICDAR_samp.zip",
        "edges2shoes.tar.gz.1",
        "edges2shoes.tar.gz.2",
        "edges2shoes.tar.gz",
        "edges2handbags.tar.gz.1",
        "edges2handbags.tar.gz"
       ],
       "description": "Dataset",
       "index": 0,
       "layout": "IPY_MODEL_2f44cffb5dad420f826a4a9a337f2271",
       "style": "IPY_MODEL_91f796ba0fcf4eaebdd1fea4c6c2256d"
      }
     },
     "bb445e0476f64933bec79f14e909238f": {
      "model_module": "@jupyter-widgets/output",
      "model_module_version": "1.0.0",
      "model_name": "OutputModel",
      "state": {
       "layout": "IPY_MODEL_77e4044ea08c42959296449a63a6af91",
       "outputs": [
        {
         "name": "stdout",
         "output_type": "stream",
         "text": "\n"
        }
       ]
      }
     },
     "bba09a984c334e5183444c70f178bb1e": {
      "model_module": "@jupyter-widgets/base",
      "model_module_version": "1.0.0",
      "model_name": "LayoutModel",
      "state": {}
     },
     "bc4db4b0c0ff4f0989a4458ade278c2f": {
      "model_module": "@jupyter-widgets/controls",
      "model_module_version": "1.2.0",
      "model_name": "ToggleButtonModel",
      "state": {
       "description": "Remove Trashes",
       "layout": "IPY_MODEL_75a9193597514db8943372d93e00aa33",
       "style": "IPY_MODEL_cd4420132f374fe6be35290b13ec54d8"
      }
     },
     "bc9a507a5ef048bd8d8a890404cb0a79": {
      "model_module": "@jupyter-widgets/controls",
      "model_module_version": "1.2.0",
      "model_name": "HBoxModel",
      "state": {
       "children": [
        "IPY_MODEL_ca31c317ce04496da7a97611d72d04f0",
        "IPY_MODEL_9d319d0babfd4de3a8bad8f9ac3fabb7"
       ],
       "layout": "IPY_MODEL_f1c4cf6cff9548bb89b2e3eaf23216f6"
      }
     },
     "bd25d61bbc3c4f20aa00e035db9a28df": {
      "model_module": "@jupyter-widgets/controls",
      "model_module_version": "1.2.0",
      "model_name": "ButtonStyleModel",
      "state": {}
     },
     "becf5599f0e14f96aec6bb3d3be71101": {
      "model_module": "@jupyter-widgets/controls",
      "model_module_version": "1.2.0",
      "model_name": "HBoxModel",
      "state": {
       "children": [
        "IPY_MODEL_86a8a10f09e2479d80c8e5cd63b04fe6",
        "IPY_MODEL_20fa636341fa4ed6b4282600917fd250",
        "IPY_MODEL_4e335ae3d79f4f9a854fcb4c58549d79"
       ],
       "layout": "IPY_MODEL_09618ea653654e90899debd9291771ef"
      }
     },
     "bff6455c8b1449b9b8e81111e56e87fa": {
      "model_module": "@jupyter-widgets/controls",
      "model_module_version": "1.2.0",
      "model_name": "DescriptionStyleModel",
      "state": {
       "description_width": ""
      }
     },
     "c0ce61cd21be444bbd164bd13f44c767": {
      "model_module": "@jupyter-widgets/controls",
      "model_module_version": "1.2.0",
      "model_name": "TextModel",
      "state": {
       "layout": "IPY_MODEL_ee6f50fd45fa4ed3975e876d17859945",
       "placeholder": "Enter domain",
       "style": "IPY_MODEL_a763ce11cd1249eab1d6e8895978b31e"
      }
     },
     "c0da8eacaa3a4de098c16eadd8b88707": {
      "model_module": "@jupyter-widgets/base",
      "model_module_version": "1.0.0",
      "model_name": "LayoutModel",
      "state": {}
     },
     "c2718d0de02a4cbb94e9724843f070ee": {
      "model_module": "@jupyter-widgets/controls",
      "model_module_version": "1.2.0",
      "model_name": "DescriptionStyleModel",
      "state": {
       "description_width": ""
      }
     },
     "c3c07fda5e9242f2b939af1ad36650a6": {
      "model_module": "@jupyter-widgets/base",
      "model_module_version": "1.0.0",
      "model_name": "LayoutModel",
      "state": {}
     },
     "c4e819069a024ff980053dc7462ae6dc": {
      "model_module": "@jupyter-widgets/base",
      "model_module_version": "1.0.0",
      "model_name": "LayoutModel",
      "state": {}
     },
     "c5c67355c77c4e52b62b3de861a51df6": {
      "model_module": "@jupyter-widgets/base",
      "model_module_version": "1.0.0",
      "model_name": "LayoutModel",
      "state": {}
     },
     "c66d742a04384cd2923c1c30a5419129": {
      "model_module": "@jupyter-widgets/output",
      "model_module_version": "1.0.0",
      "model_name": "OutputModel",
      "state": {
       "layout": "IPY_MODEL_0b6e49dc281b42209afcdbf78a6c9262",
       "outputs": [
        {
         "name": "stdout",
         "output_type": "stream",
         "text": "\n"
        }
       ]
      }
     },
     "c6bdd25e20ce4958b4d24453a264c6d1": {
      "model_module": "@jupyter-widgets/controls",
      "model_module_version": "1.2.0",
      "model_name": "ButtonModel",
      "state": {
       "description": "Kill",
       "layout": "IPY_MODEL_37d7e3ae362043108c45ed835d1dbef2",
       "style": "IPY_MODEL_3392a62e89a64f999080244617821118"
      }
     },
     "c6dec3af251444c2bc0d68060e52b80b": {
      "model_module": "@jupyter-widgets/controls",
      "model_module_version": "1.2.0",
      "model_name": "HBoxModel",
      "state": {
       "children": [
        "IPY_MODEL_647e76684cb54e7ebbf4be9bbd1f837f",
        "IPY_MODEL_7a71c706ce0f4ddd96ca8962339c81ce",
        "IPY_MODEL_5a40f9266a8f49fe87dc4da2079466af"
       ],
       "layout": "IPY_MODEL_3752f7e7346c4972bb0f830e1572031c"
      }
     },
     "ca317f744234456987732f43b8fc6624": {
      "model_module": "@jupyter-widgets/controls",
      "model_module_version": "1.2.0",
      "model_name": "ButtonStyleModel",
      "state": {}
     },
     "ca31c317ce04496da7a97611d72d04f0": {
      "model_module": "@jupyter-widgets/controls",
      "model_module_version": "1.2.0",
      "model_name": "ToggleButtonModel",
      "state": {
       "button_style": "success",
       "description": "Initialize",
       "layout": "IPY_MODEL_8cae28787c4544e8851243a9529d3da5",
       "style": "IPY_MODEL_af2f04aa7be64cde8929e27c1d51512d"
      }
     },
     "cb899dbeeb1d432181cda07612aa420d": {
      "model_module": "@jupyter-widgets/base",
      "model_module_version": "1.0.0",
      "model_name": "LayoutModel",
      "state": {}
     },
     "cc2e0b37d1c9460c9ec106266c698689": {
      "model_module": "@jupyter-widgets/controls",
      "model_module_version": "1.2.0",
      "model_name": "VBoxModel",
      "state": {
       "children": [
        "IPY_MODEL_7259856b50cc4ff8a16d141987a42927",
        "IPY_MODEL_05570cba810a4c7692c9077f3a570c6c",
        "IPY_MODEL_4da71e7d4a654576ac7f4781a591ad29",
        "IPY_MODEL_c6dec3af251444c2bc0d68060e52b80b",
        "IPY_MODEL_3bee7534f3c748aa92996b27386f340d"
       ],
       "layout": "IPY_MODEL_248b9b4f74cf4b7da348931b5086b0de"
      }
     },
     "ccb8a5f308214b0abee6481885e5a870": {
      "model_module": "@jupyter-widgets/controls",
      "model_module_version": "1.2.0",
      "model_name": "DescriptionStyleModel",
      "state": {
       "description_width": ""
      }
     },
     "ccc6dfbfe1e74ee08d5f05d15c3b6a3b": {
      "model_module": "@jupyter-widgets/base",
      "model_module_version": "1.0.0",
      "model_name": "LayoutModel",
      "state": {}
     },
     "cd4420132f374fe6be35290b13ec54d8": {
      "model_module": "@jupyter-widgets/controls",
      "model_module_version": "1.2.0",
      "model_name": "DescriptionStyleModel",
      "state": {
       "description_width": ""
      }
     },
     "cfe7f1bf5bee43c18c1722e9877d67ee": {
      "model_module": "@jupyter-widgets/base",
      "model_module_version": "1.0.0",
      "model_name": "LayoutModel",
      "state": {}
     },
     "d077462bd6ae406a8d5ca27f3879dc64": {
      "model_module": "@jupyter-widgets/controls",
      "model_module_version": "1.2.0",
      "model_name": "ButtonModel",
      "state": {
       "description": "Get Jupyter Link",
       "layout": "IPY_MODEL_5bf5fd3c27c94b5ab9565f6e41d80bd7",
       "style": "IPY_MODEL_aceacf7456fd4e349069903641cf33d0"
      }
     },
     "d0b35da44941475c946b82d3503a6c1d": {
      "model_module": "@jupyter-widgets/controls",
      "model_module_version": "1.2.0",
      "model_name": "DescriptionStyleModel",
      "state": {
       "description_width": ""
      }
     },
     "d173471ee97845cd8c93ec09053794fb": {
      "model_module": "@jupyter-widgets/base",
      "model_module_version": "1.0.0",
      "model_name": "LayoutModel",
      "state": {}
     },
     "d2fd13cca5f149a6bda5cf453c869a08": {
      "model_module": "@jupyter-widgets/controls",
      "model_module_version": "1.2.0",
      "model_name": "ButtonModel",
      "state": {
       "description": "Refresh",
       "layout": "IPY_MODEL_75cc9b3b16154afeb4b40f30b22af0f1",
       "style": "IPY_MODEL_68849b05b2f6463b9e96fa9caea7a862"
      }
     },
     "d37bc6ae2be644b0b15dbf739808471a": {
      "model_module": "@jupyter-widgets/controls",
      "model_module_version": "1.2.0",
      "model_name": "HBoxModel",
      "state": {
       "children": [
        "IPY_MODEL_bafdf854feeb4f0cbae3289c3d544017",
        "IPY_MODEL_e61fc16b2b0d4002b0d2792e96ca40a7"
       ],
       "layout": "IPY_MODEL_fc457064ee00432ba1994fc262623e34"
      }
     },
     "d99c7b265219468f904f6c00fe11824d": {
      "model_module": "@jupyter-widgets/controls",
      "model_module_version": "1.2.0",
      "model_name": "CheckboxModel",
      "state": {
       "description": "Show GPU usage",
       "disabled": false,
       "layout": "IPY_MODEL_66dec4f5508d41c48c8952790558e98d",
       "style": "IPY_MODEL_ccb8a5f308214b0abee6481885e5a870",
       "value": true
      }
     },
     "db9a366a8ed4499aadf8c6a94ffeff69": {
      "model_module": "@jupyter-widgets/base",
      "model_module_version": "1.0.0",
      "model_name": "LayoutModel",
      "state": {}
     },
     "dc6ddabac8034f7e98bd7d5e4acc4faf": {
      "model_module": "@jupyter-widgets/base",
      "model_module_version": "1.0.0",
      "model_name": "LayoutModel",
      "state": {}
     },
     "dc85c581711e412495d0d6bea8caccf5": {
      "model_module": "@jupyter-widgets/base",
      "model_module_version": "1.0.0",
      "model_name": "LayoutModel",
      "state": {}
     },
     "de2db0856d774ded90dd802c83330fab": {
      "model_module": "@jupyter-widgets/controls",
      "model_module_version": "1.2.0",
      "model_name": "DescriptionStyleModel",
      "state": {
       "description_width": ""
      }
     },
     "de78696526b7486eb33ba5652436d8df": {
      "model_module": "@jupyter-widgets/controls",
      "model_module_version": "1.2.0",
      "model_name": "DescriptionStyleModel",
      "state": {
       "description_width": ""
      }
     },
     "dfb2edd159364fd08e1ad92f511ef82a": {
      "model_module": "@jupyter-widgets/base",
      "model_module_version": "1.0.0",
      "model_name": "LayoutModel",
      "state": {}
     },
     "e2dc97660b864ecab5774e452a106e60": {
      "model_module": "@jupyter-widgets/controls",
      "model_module_version": "1.2.0",
      "model_name": "ButtonStyleModel",
      "state": {}
     },
     "e389b25aa1fc46b89e0f62670545983c": {
      "model_module": "@jupyter-widgets/base",
      "model_module_version": "1.0.0",
      "model_name": "LayoutModel",
      "state": {}
     },
     "e3937f2113ba4b82aac24c216836d48f": {
      "model_module": "@jupyter-widgets/base",
      "model_module_version": "1.0.0",
      "model_name": "LayoutModel",
      "state": {}
     },
     "e39ccc7443f041bbae059ff6175372ae": {
      "model_module": "@jupyter-widgets/base",
      "model_module_version": "1.0.0",
      "model_name": "LayoutModel",
      "state": {}
     },
     "e4af238e43b74e129e2ed625e9034b28": {
      "model_module": "@jupyter-widgets/controls",
      "model_module_version": "1.2.0",
      "model_name": "VBoxModel",
      "state": {
       "children": [
        "IPY_MODEL_393e00138ed04a32a8e94d2b2f1eff0b",
        "IPY_MODEL_a09a4a6c0a4a4c16a803997fb484f262",
        "IPY_MODEL_7e10bad4e632476e950ae626b9404ef3",
        "IPY_MODEL_b14f39966199441c873d1a5b83b5d25b",
        "IPY_MODEL_68f322bd917b400c9b9378f237e6f4a0"
       ],
       "layout": "IPY_MODEL_dc85c581711e412495d0d6bea8caccf5"
      }
     },
     "e50b2de2bbf24fd7b900c67dbd8ca0b1": {
      "model_module": "@jupyter-widgets/controls",
      "model_module_version": "1.2.0",
      "model_name": "DescriptionStyleModel",
      "state": {
       "description_width": ""
      }
     },
     "e52b90dc2bbb44f390dc60b522ca0d9a": {
      "model_module": "@jupyter-widgets/controls",
      "model_module_version": "1.2.0",
      "model_name": "HBoxModel",
      "state": {
       "children": [
        "IPY_MODEL_41e68e410d86460bb1a4a364d8125a06",
        "IPY_MODEL_4bebebbbdb99435096ba48a7f4f53bab"
       ],
       "layout": "IPY_MODEL_52a562689be443f6ac7e3776dea7cc16"
      }
     },
     "e54e81892240427abb09b30c57a12fcb": {
      "model_module": "@jupyter-widgets/base",
      "model_module_version": "1.0.0",
      "model_name": "LayoutModel",
      "state": {}
     },
     "e56caa3a322a43d888376a44b2508e3d": {
      "model_module": "@jupyter-widgets/base",
      "model_module_version": "1.0.0",
      "model_name": "LayoutModel",
      "state": {}
     },
     "e5acf79261a348f28b96a8313a268c5d": {
      "model_module": "@jupyter-widgets/base",
      "model_module_version": "1.0.0",
      "model_name": "LayoutModel",
      "state": {}
     },
     "e61fc16b2b0d4002b0d2792e96ca40a7": {
      "model_module": "@jupyter-widgets/controls",
      "model_module_version": "1.2.0",
      "model_name": "ButtonModel",
      "state": {
       "description": "Extract",
       "layout": "IPY_MODEL_e56caa3a322a43d888376a44b2508e3d",
       "style": "IPY_MODEL_e2dc97660b864ecab5774e452a106e60"
      }
     },
     "e97935e5572b44d0870403d527fb7f60": {
      "model_module": "@jupyter-widgets/base",
      "model_module_version": "1.0.0",
      "model_name": "LayoutModel",
      "state": {}
     },
     "ebd28453c3014c758004205a8112d7d5": {
      "model_module": "@jupyter-widgets/controls",
      "model_module_version": "1.2.0",
      "model_name": "TextModel",
      "state": {
       "layout": "IPY_MODEL_488c5f148467434d80cb46820a86a85c",
       "placeholder": "Enter domain",
       "style": "IPY_MODEL_afee51bf586e4181ad00e45a84cff93c"
      }
     },
     "ebd6e18661a9401d95a33e5522cfbb3e": {
      "model_module": "@jupyter-widgets/base",
      "model_module_version": "1.0.0",
      "model_name": "LayoutModel",
      "state": {}
     },
     "ec057bb6f2644a96af0880bef2beaf9c": {
      "model_module": "@jupyter-widgets/controls",
      "model_module_version": "1.2.0",
      "model_name": "DropdownModel",
      "state": {
       "_options_labels": [
        "Anno",
        "img_align_celeba.zip",
        "ZGPDS300",
        "Script iden.zip",
        "DatsetBangla.tar.gz",
        "ICDAR.tar.gz",
        "Font_data.zip",
        "font datset.zip",
        "DatsetBangla.rar",
        "script2scriptdata.zip",
        "iamhand2print.zip",
        "script_data.tar.gz",
        "trainingSet.tar.gz",
        "GPDSSyntheticSignaturesManuscriptmnhgfr.rar",
        "printd.zip",
        "IAMhand2print.zip",
        "IAMhand2printv2.zip",
        "IAMhand2printv3.zip",
        "gpds300.zip",
        "ALL Words Datasets.zip",
        "Signature datasets.zip",
        "CVSI -2015.rar",
        "SIW-13.rar",
        "Script.zip",
        "ICDAR_norm.zip",
        "ICDAR_samp.zip",
        "edges2shoes.tar.gz.1",
        "edges2shoes.tar.gz.2",
        "edges2shoes.tar.gz",
        "edges2handbags.tar.gz.1",
        "edges2handbags.tar.gz"
       ],
       "description": "Dataset",
       "index": 0,
       "layout": "IPY_MODEL_8ce0d7dac0d74085bdce704a8414d626",
       "style": "IPY_MODEL_2fd088bd75044d0484a55a787c134a66"
      }
     },
     "ee6f50fd45fa4ed3975e876d17859945": {
      "model_module": "@jupyter-widgets/base",
      "model_module_version": "1.0.0",
      "model_name": "LayoutModel",
      "state": {}
     },
     "eeaf05a6bda443c7ad77a6fc31ca9283": {
      "model_module": "@jupyter-widgets/controls",
      "model_module_version": "1.2.0",
      "model_name": "VBoxModel",
      "state": {
       "children": [
        "IPY_MODEL_b1c0a258a12d481082b5ad09a17f8321",
        "IPY_MODEL_b645ace1c0cd46f2a4f05dadbaf9ae69",
        "IPY_MODEL_5692a4d4f8834503bb2754b3b8123c74",
        "IPY_MODEL_4dd626b8d25f482887a366a487dde961",
        "IPY_MODEL_733e524e39084537b43a1b1128001b99"
       ],
       "layout": "IPY_MODEL_98bc681078ab40768e4a3f85d0416b89"
      }
     },
     "ef7339082f6947cb82408aef5d1bc6af": {
      "model_module": "@jupyter-widgets/base",
      "model_module_version": "1.0.0",
      "model_name": "LayoutModel",
      "state": {}
     },
     "f00c6d9b74074cf58371345d3b7e3afc": {
      "model_module": "@jupyter-widgets/controls",
      "model_module_version": "1.2.0",
      "model_name": "CheckboxModel",
      "state": {
       "description": "Show GPU usage",
       "disabled": false,
       "layout": "IPY_MODEL_8d076a1ab89947d295e9eeefe62add8d",
       "style": "IPY_MODEL_13c5cfafe6b5450aa9b582f5131eb71a",
       "value": true
      }
     },
     "f0180128d1ad4695ba2505b2f1cf01a0": {
      "model_module": "@jupyter-widgets/controls",
      "model_module_version": "1.2.0",
      "model_name": "ButtonModel",
      "state": {
       "description": "Kill",
       "layout": "IPY_MODEL_139c250ceafd4b7bb01f6fe820d222ad",
       "style": "IPY_MODEL_56fef4cf7cb84d16bce0c4fdfc296e0c"
      }
     },
     "f1c4cf6cff9548bb89b2e3eaf23216f6": {
      "model_module": "@jupyter-widgets/base",
      "model_module_version": "1.0.0",
      "model_name": "LayoutModel",
      "state": {}
     },
     "f256d3a128bd4a3c9831fff066876002": {
      "model_module": "@jupyter-widgets/base",
      "model_module_version": "1.0.0",
      "model_name": "LayoutModel",
      "state": {}
     },
     "f34af4fbf4f34a5581e94a2284b18fe2": {
      "model_module": "@jupyter-widgets/base",
      "model_module_version": "1.0.0",
      "model_name": "LayoutModel",
      "state": {}
     },
     "f3c7fe88437d406fae9fafbc2c63055b": {
      "model_module": "@jupyter-widgets/controls",
      "model_module_version": "1.2.0",
      "model_name": "ButtonModel",
      "state": {
       "description": "Get Jupyter Link",
       "layout": "IPY_MODEL_ebd6e18661a9401d95a33e5522cfbb3e",
       "style": "IPY_MODEL_2211650f210e4cf695ca086e7fc2945e"
      }
     },
     "f3f6c7d9f32a4f1ba238cc13d582f327": {
      "model_module": "@jupyter-widgets/base",
      "model_module_version": "1.0.0",
      "model_name": "LayoutModel",
      "state": {}
     },
     "f3fd1fbd54644ea6b96d32f9405d8f26": {
      "model_module": "@jupyter-widgets/controls",
      "model_module_version": "1.2.0",
      "model_name": "DescriptionStyleModel",
      "state": {
       "description_width": ""
      }
     },
     "f4aec34a892444a3b32f8c0a8cbc345e": {
      "model_module": "@jupyter-widgets/base",
      "model_module_version": "1.0.0",
      "model_name": "LayoutModel",
      "state": {}
     },
     "f57b764d1aa04c0eb6a7e4112cbf355e": {
      "model_module": "@jupyter-widgets/base",
      "model_module_version": "1.0.0",
      "model_name": "LayoutModel",
      "state": {}
     },
     "f595d26d3a71490abaa1733dc7cc5576": {
      "model_module": "@jupyter-widgets/controls",
      "model_module_version": "1.2.0",
      "model_name": "HBoxModel",
      "state": {
       "children": [
        "IPY_MODEL_372820e942f0412ea51d82ecad7534d7",
        "IPY_MODEL_504507a13bcc46218b42754cf0863907"
       ],
       "layout": "IPY_MODEL_bba09a984c334e5183444c70f178bb1e"
      }
     },
     "f5ab3dfd5c614a24b85113ae47d5722d": {
      "model_module": "@jupyter-widgets/controls",
      "model_module_version": "1.2.0",
      "model_name": "TextModel",
      "state": {
       "description": "Kill Process ",
       "layout": "IPY_MODEL_1fe4b5bdc3754ee1ae1bdb34977c5b80",
       "placeholder": "Enter PID",
       "style": "IPY_MODEL_885b83154a034c69b4ac974ff0dd7071"
      }
     },
     "f5b58409a7604e9aa8a0f5daec5687e9": {
      "model_module": "@jupyter-widgets/output",
      "model_module_version": "1.0.0",
      "model_name": "OutputModel",
      "state": {
       "layout": "IPY_MODEL_86353365c7fd4996b65dafeba9bd525f",
       "outputs": [
        {
         "name": "stdout",
         "output_type": "stream",
         "text": "\n"
        }
       ]
      }
     },
     "f6db54f043c34eb49e7af1eb506c88ef": {
      "model_module": "@jupyter-widgets/base",
      "model_module_version": "1.0.0",
      "model_name": "LayoutModel",
      "state": {}
     },
     "f754f3caa8bd4b15a62419224a40a1f8": {
      "model_module": "@jupyter-widgets/controls",
      "model_module_version": "1.2.0",
      "model_name": "ButtonStyleModel",
      "state": {}
     },
     "f76c9e9341e14795850135a4826a74a5": {
      "model_module": "@jupyter-widgets/base",
      "model_module_version": "1.0.0",
      "model_name": "LayoutModel",
      "state": {}
     },
     "f80784985059487da1b62bea4c91a021": {
      "model_module": "@jupyter-widgets/controls",
      "model_module_version": "1.2.0",
      "model_name": "TextModel",
      "state": {
       "description": "Commands",
       "layout": "IPY_MODEL_b360f49995e44ccdbc1911e4abd6a668",
       "style": "IPY_MODEL_8613fc0b5be5423f946c644eda2bcb33"
      }
     },
     "f8d423d7ec5042f79e11be6966f4fcd4": {
      "model_module": "@jupyter-widgets/base",
      "model_module_version": "1.0.0",
      "model_name": "LayoutModel",
      "state": {}
     },
     "f9493eacf6524807b80b1b4f5f7eae19": {
      "model_module": "@jupyter-widgets/controls",
      "model_module_version": "1.2.0",
      "model_name": "DescriptionStyleModel",
      "state": {
       "description_width": ""
      }
     },
     "fab6dd1e4b654518b1781c5d32870d6a": {
      "model_module": "@jupyter-widgets/base",
      "model_module_version": "1.0.0",
      "model_name": "LayoutModel",
      "state": {}
     },
     "fc457064ee00432ba1994fc262623e34": {
      "model_module": "@jupyter-widgets/base",
      "model_module_version": "1.0.0",
      "model_name": "LayoutModel",
      "state": {}
     },
     "fcac1a8f2d0d46dcae9ed414875cc978": {
      "model_module": "@jupyter-widgets/controls",
      "model_module_version": "1.2.0",
      "model_name": "DescriptionStyleModel",
      "state": {
       "description_width": ""
      }
     },
     "ffad785f98454f9c8eb3c8b72472ecff": {
      "model_module": "@jupyter-widgets/base",
      "model_module_version": "1.0.0",
      "model_name": "LayoutModel",
      "state": {}
     }
    },
    "version_major": 2,
    "version_minor": 0
   }
  }
 },
 "nbformat": 4,
 "nbformat_minor": 2
}
