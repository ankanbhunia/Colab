{
  "nbformat": 4,
  "nbformat_minor": 0,
  "metadata": {
    "colab": {
      "name": "DLSETUP.ipynb",
      "version": "0.3.2",
      "provenance": [],
      "collapsed_sections": [],
      "include_colab_link": true
    },
    "kernelspec": {
      "name": "python2",
      "display_name": "Python 2"
    },
    "accelerator": "GPU"
  },
  "cells": [
    {
      "cell_type": "markdown",
      "metadata": {
        "id": "view-in-github",
        "colab_type": "text"
      },
      "source": [
        "[View in Colaboratory](https://colab.research.google.com/github/ankanbhunia/Colab/blob/master/DLSETUPashiuiasasui.ipynb)"
      ]
    },
    {
      "metadata": {
        "id": "5gQOGoczaF6V",
        "colab_type": "code",
        "colab": {
          "base_uri": "https://localhost:8080/",
          "height": 36
        },
        "outputId": "0d92872c-c2d3-4dd7-b901-a7efa6818f8c"
      },
      "cell_type": "code",
      "source": [
        "#@title Run GPU Machines { vertical-output: true }\n",
        "Initialize = True #@param {type:\"boolean\"}\n",
        "Install_Packages = True #@param {type:\"boolean\"}\n",
        "Drive = 2 #@param {type:\"slider\", min:1, max:7, step:1}\n",
        "Remove_Trashes = False #@param {type:\"boolean\"}\n",
        "Get_Jupyter_URL = True #@param {type:\"boolean\"}\n",
        "Server = \"clouderizer1\" #@param [\"localtunnel\", \"ngrok1\", \"ngrok2\", \"ngrok3\", \"ngrok4\", \"ngrok5\", \"ngrok6\", \"ngrok7\", \"clouderizer1\", \"clouderizer2\", \"clouderizer3\", \"clouderizer4\", \"clouderizer5\", \"clouderizer6\", \"clouderizer7\"]\n",
        "Domain = \"gdsfzx\" #@param {type:\"string\"}\n",
        "\n",
        "if Initialize:\n",
        "  get_ipython().system_raw('git clone https://github.com/ankanbhunia/Colab.git Colab; cp Colab/* . ;rm -r Colab')\n",
        "  exec(open('Colabstart.py').read())\n",
        "if Install_Packages:\n",
        "  load()\n",
        "\n",
        "if Remove_Trashes:\n",
        "  get_ipython().system_raw('python trash.py &')\n",
        "if Get_Jupyter_URL:\n",
        "  if Server == 'localtunnel':\n",
        "    localtunnel(Domain)\n",
        "  elif Server == 'ngrok1':\n",
        "    ngrok('6HHRoYsgJ7hpZJvcF8syH_7aVenWciJrBDtUYkss7Mh')\n",
        "  elif Server == 'ngrok2':\n",
        "    ngrok('5vhWvAzJGtsJbnVp4V5di_6KNVTN8BpHMqKYyAaFFXQ')\n",
        "  elif Server == 'ngrok3':\n",
        "    ngrok('zKGSVRc9vNatJGJH9fiQ_4qqv4CvMnKteDdLh9ptN7')\n",
        "  elif Server == 'ngrok4':\n",
        "    ngrok('5NayLNvRk7xGUnDj6Qoaf_47hmBjdmf7kRBxuHHyJob')\n",
        "  elif Server == 'ngrok5':\n",
        "    ngrok('5TjjQkEMmSJW35PRS3Dq4_2Riu2mgke1PqScTBNc3Nb')\n",
        "  elif Server == 'ngrok6':\n",
        "    ngrok('V9tENk1WFhMZvSbS7ZiH_6q4ge2TsQaaLdDejtQE8D')\n",
        "  elif Server == 'ngrok7':\n",
        "    ngrok('7Qf51Cwyh8GsHvak4znPA_6jbC7DuoL3XmCBy2PJxKv')\n",
        "    \n",
        "  elif Server == 'clouderizer1':\n",
        "    get_ipython().system_raw('wget -NS --content-disposition \"https://console.clouderizer.com/givemeinitsh/zIkCMW86\" && bash ./clouderizer_init.sh &')\n",
        "  elif Server == 'clouderizer2':\n",
        "    get_ipython().system_raw('wget -NS --content-disposition \"https://console.clouderizer.com/givemeinitsh/IVfCV5SO\" && bash ./clouderizer_init.sh &')\n",
        "  elif Server == 'clouderizer3':\n",
        "    get_ipython().system_raw('wget -NS --content-disposition \"https://console.clouderizer.com/givemeinitsh/dhsCRd98\" && bash ./clouderizer_init.sh &')\n",
        "  elif Server == 'clouderizer4':\n",
        "    get_ipython().system_raw('wget -NS --content-disposition \"https://console.clouderizer.com/givemeinitsh/eKa4vZFn\" && bash ./clouderizer_init.sh &')\n",
        "  elif Server == 'clouderizer5':\n",
        "    get_ipython().system_raw('wget -NS --content-disposition \"https://console.clouderizer.com/givemeinitsh/HoGN8iiD\" && bash ./clouderizer_init.sh &')\n",
        "  elif Server == 'clouderizer6':\n",
        "    get_ipython().system_raw('wget -NS --content-disposition \"https://console.clouderizer.com/givemeinitsh/qEtDE1OP\" && bash ./clouderizer_init.sh &')\n",
        "  elif Server == 'clouderizer7':\n",
        "    get_ipython().system_raw('wget -NS --content-disposition \"https://console.clouderizer.com/givemeinitsh/I0QG3GRx\" && bash ./clouderizer_init.sh &')\n",
        "\n",
        "if not os.path.isdir('drive'):\n",
        "    load_drive(Drive)\n",
        "    "
      ],
      "execution_count": 1,
      "outputs": [
        {
          "output_type": "stream",
          "text": [
            "100%|██████████| 20/20 [01:22<00:00,  4.10s/it]\n"
          ],
          "name": "stderr"
        }
      ]
    },
    {
      "metadata": {
        "id": "pNo8DFy3ftcG",
        "colab_type": "code",
        "colab": {
          "base_uri": "https://localhost:8080/",
          "height": 54
        },
        "outputId": "0557e95b-b658-4361-d2a0-eb4353bd6e0d"
      },
      "cell_type": "code",
      "source": [
        "#@title Unzip dataset { run: \"auto\", vertical-output: true }\n",
        " \n",
        "import os\n",
        "path = \"drive/datasets/IndicCharacter_SSH.zip\" #@param {type:\"string\"}\n",
        "\n",
        "pp = path.split('/')\n",
        "\n",
        "pp1 = '/'.join(pp[:-1])\n",
        "\n",
        "if os.path.isdir(path):\n",
        "  hh= os.listdir(path)\n",
        "  for i in hh:\n",
        "    print (i)\n",
        "elif os.path.isdir(pp1):\n",
        "  kk = ([i for i in os.listdir(pp1) if pp[-1] in i])\n",
        "  for i in kk:\n",
        "    zz = i.split(pp[-1])\n",
        "    print(zz[0] + '\\x1b[1;37;40m' + pp[-1] + '\\x1b[0m' + zz[1])\n",
        "\n",
        "if os.path.isfile(path):\n",
        "  \n",
        "  if path.endswith('zip'):\n",
        "    print ('Extracting ' + path)\n",
        "    get_ipython().system_raw('unzip '+ path)\n",
        "    \n",
        "  if path.endswith('rar'):\n",
        "    print ('Extracting ' + path)\n",
        "    get_ipython().system_raw('unrar x  '+ path)\n",
        "\n",
        "  if path.endswith('tar.gz'):\n",
        "    print ('Extracting ' + path)\n",
        "    get_ipython().system_raw('tar -xvf '+ path)\n"
      ],
      "execution_count": 2,
      "outputs": [
        {
          "output_type": "stream",
          "text": [
            "\u001b[1;37;40mIndicCharacter_SSH.zip\u001b[0m\n",
            "Extracting drive/datasets/IndicCharacter_SSH.zip\n"
          ],
          "name": "stdout"
        }
      ]
    },
    {
      "metadata": {
        "id": "Yi-UdrGkdH92",
        "colab_type": "code",
        "colab": {
          "base_uri": "https://localhost:8080/",
          "height": 149
        },
        "outputId": "fb9f0980-4da6-4dd3-ab6e-d2dcbd118a66"
      },
      "cell_type": "code",
      "source": [
        "Show_GPU_usage = True #@param {type:\"boolean\"}\n",
        "\n",
        "Show_Running_Programs = True #@param {type:\"boolean\"}\n",
        "\n",
        "if Show_GPU_usage:\n",
        "  try:\n",
        "    print ('GPU Usage : '+ get_ipython().getoutput('gpustat')[1])\n",
        "  except:\n",
        "    print ('No GPU')\n",
        "print('')\n",
        "if Show_Running_Programs:\n",
        "  print ('Running Programs : ')\n",
        "  print(task('python'))"
      ],
      "execution_count": 4,
      "outputs": [
        {
          "output_type": "stream",
          "text": [
            "GPU Usage : [0] Tesla K80        | 33'C,   0 % |     1 / 11439 MB |\n",
            "\n",
            "Running Programs : \n",
            "    PID  memory      time           process\n",
            "1    77   55528  00:00:01  /usr/bin/python2\n",
            "2    85  144220  00:00:04   /usr/bin/python\n",
            "3  1598  188604  00:00:12  /usr/bin/python2\n"
          ],
          "name": "stdout"
        }
      ]
    },
    {
      "metadata": {
        "id": "aMUlt4NJaKNK",
        "colab_type": "code",
        "colab": {
          "base_uri": "https://localhost:8080/",
          "height": 36
        },
        "outputId": "1c82134b-1752-48aa-9080-a0d167ac5926"
      },
      "cell_type": "code",
      "source": [
        "#@title Kill Process\n",
        "PID = \"7638\" #@param {type:\"string\"}\n",
        "get_ipython().getoutput('kill '+str(PID))"
      ],
      "execution_count": 82,
      "outputs": [
        {
          "output_type": "execute_result",
          "data": {
            "text/plain": [
              "[]"
            ]
          },
          "metadata": {
            "tags": []
          },
          "execution_count": 82
        }
      ]
    },
    {
      "metadata": {
        "id": "4VjJ5HAGedkW",
        "colab_type": "code",
        "colab": {}
      },
      "cell_type": "code",
      "source": [
        "\n",
        "Reset_All = True #@param {type:\"boolean\"}\n",
        "if Reset_All:\n",
        "  get_ipython().getoutput('kill -9 -1')"
      ],
      "execution_count": 0,
      "outputs": []
    },
    {
      "metadata": {
        "id": "7e_olgyHvrhN",
        "colab_type": "code",
        "colab": {
          "base_uri": "https://localhost:8080/",
          "height": 17
        },
        "outputId": "bdf84824-790a-45da-b361-f03ee16bbbfc"
      },
      "cell_type": "code",
      "source": [
        ""
      ],
      "execution_count": 5,
      "outputs": []
    },
    {
      "metadata": {
        "id": "_D06bzwZr0AA",
        "colab_type": "code",
        "colab": {}
      },
      "cell_type": "code",
      "source": [
        "\"\"\"\n",
        "Copyright (C) 2018 NVIDIA Corporation.  All rights reserved.\n",
        "Licensed under the CC BY-NC-SA 4.0 license (https://creativecommons.org/licenses/by-nc-sa/4.0/legalcode).\n",
        "\"\"\"\n",
        "\n",
        "from __future__ import print_function\n",
        "from utils import get_config, get_data_loader_folder\n",
        "from trainer import MUNIT_Trainer, UNIT_Trainer\n",
        "import argparse\n",
        "from torch.autograd import Variable\n",
        "import torchvision.utils as vutils\n",
        "import sys\n",
        "import torch\n",
        "import os\n",
        "from torchvision import transforms\n",
        "from PIL import Image\n",
        "\n",
        "import os\n",
        "os.environ[\"CUDA_DEVICE_ORDER\"]=\"PCI_BUS_ID\"   \n",
        "os.environ[\"CUDA_VISIBLE_DEVICES\"]=\"3\"\n",
        "def get_res(img_path):\n",
        "    \n",
        "    dev = 3\n",
        "    params = {'config' : '/media/drive1/koustavmullick/ankan/UNIT/configs/unit_gta2city_list.yaml',\n",
        "              'input' : img_path,\n",
        "              'output_folder' : '/media/drive1/koustavmullick/ankan/UNIT/outputs/gta2city',\n",
        "              'checkpoint' : '/media/drive1/koustavmullick/ankan/UNIT/models/unit_gta2city.pt',\n",
        "              'style' : '',\n",
        "              'a2b' : 1,\n",
        "              'seed' : 10,\n",
        "              'num_style' : 10,\n",
        "              'synchronized' : True,\n",
        "              'output_only' : True,\n",
        "              'output_path' : '/media/drive1/koustavmullick/ankan/UNIT/',\n",
        "              'trainer' : 'UNIT'\n",
        "\n",
        "    }\n",
        "    \n",
        "    torch.manual_seed(params['seed'])\n",
        "    torch.cuda.manual_seed(params['seed'])\n",
        "    if not os.path.exists(params['output_folder']):\n",
        "        os.makedirs(params['output_folder'])\n",
        "\n",
        "    # Load experiment setting\n",
        "    config = get_config(params['config'])\n",
        "    params['num_style'] = 1 if params['style'] != '' else params['num_style']\n",
        "\n",
        "    # Setup model and data loader\n",
        "    config['vgg_model_path'] = params['output_path']\n",
        "    if params['trainer'] == 'MUNIT':\n",
        "        style_dim = config['gen']['style_dim']\n",
        "        trainer = MUNIT_Trainer(config)\n",
        "    elif params['trainer'] == 'UNIT':\n",
        "        trainer = UNIT_Trainer(config)\n",
        "    else:\n",
        "        sys.exit(\"Only support MUNIT|UNIT\")\n",
        "    state_dict = torch.load(params['checkpoint'])\n",
        "    trainer.gen_a.load_state_dict(state_dict['a'])\n",
        "    trainer.gen_b.load_state_dict(state_dict['b'])\n",
        "    trainer.cuda(dev)\n",
        "    trainer.eval()\n",
        "    encode = trainer.gen_a.encode if params['a2b'] else trainer.gen_b.encode # encode function\n",
        "    style_encode = trainer.gen_b.encode if params['a2b'] else trainer.gen_a.encode # encode function\n",
        "    decode = trainer.gen_b.decode if params['a2b'] else trainer.gen_a.decode # decode function\n",
        "\n",
        "    if 'new_size' in config:\n",
        "        new_size = config['new_size']\n",
        "    else:\n",
        "        if params['a2b']==1:\n",
        "            new_size = config['new_size_a']\n",
        "        else:\n",
        "            new_size = config['new_size_b']\n",
        "\n",
        "    transform = transforms.Compose([transforms.Resize(new_size),\n",
        "                                    transforms.ToTensor(),\n",
        "                                    transforms.Normalize((0.5, 0.5, 0.5), (0.5, 0.5, 0.5))])\n",
        "    image = Variable(transform(Image.open(params['input']).convert('RGB')).unsqueeze(0).cuda(dev), volatile=True)\n",
        "    style_image = Variable(transform(Image.open(params['style']).convert('RGB')).unsqueeze(0).cuda(dev), volatile=True) if params['style'] != '' else None\n",
        "\n",
        "    # Start testing\n",
        "    content, _ = encode(image)\n",
        "\n",
        "    if params['trainer'] == 'MUNIT':\n",
        "        style_rand = Variable(torch.randn(params['num_style'], style_dim, 1, 1).cuda(dev), volatile=True)\n",
        "        if params['style'] != '':\n",
        "            _, style = style_encode(style_image)\n",
        "        else:\n",
        "            style = style_rand\n",
        "        for j in range(params['num_style']):\n",
        "            s = style[j].unsqueeze(0)\n",
        "            outputs = decode(content, s)\n",
        "            outputs = (outputs + 1) / 2.\n",
        "            path = os.path.join(params['output_folder'], 'output{:03d}.jpg'.format(j))\n",
        "            vutils.save_image(outputs.data, path, padding=0, normalize=True)\n",
        "    elif params['trainer'] == 'UNIT':\n",
        "        \n",
        "        outputs = decode(content)\n",
        "        outputs = (outputs + 1) / 2.\n",
        "        #path = os.path.join(params['output_folder'],'output_'+img_path.split('/')[-1])\n",
        "\n",
        "        vutils.save_image(outputs.data, img_path, padding=0, normalize=True)\n",
        "    else:\n",
        "        pass\n",
        "\n",
        "    if not params['output_only']:\n",
        "        # also save input images\n",
        "        vutils.save_image(image.data, os.path.join(params['output_folder'], 'input_'+img_path.split('/')[-1]), padding=0, normalize=True)\n"
      ],
      "execution_count": 0,
      "outputs": []
    },
    {
      "metadata": {
        "id": "dnGGlULVxKNa",
        "colab_type": "code",
        "colab": {}
      },
      "cell_type": "code",
      "source": [
        "path = '/media/drive1/koustavmullick/ankan/Images/'"
      ],
      "execution_count": 0,
      "outputs": []
    },
    {
      "metadata": {
        "id": "n2bmHeRBxNca",
        "colab_type": "code",
        "colab": {}
      },
      "cell_type": "code",
      "source": [
        "def get_file_paths(path):\n",
        "    paths = [os.path.join(root, file)  for root, dirs, files in os.walk(path) for file in files]\n",
        "    return paths"
      ],
      "execution_count": 0,
      "outputs": []
    },
    {
      "metadata": {
        "id": "CiJtsJ47xPAE",
        "colab_type": "code",
        "colab": {}
      },
      "cell_type": "code",
      "source": [
        "all_file_paths = get_file_paths(path)"
      ],
      "execution_count": 0,
      "outputs": []
    },
    {
      "metadata": {
        "id": "m7YjTOSNxQKG",
        "colab_type": "code",
        "colab": {}
      },
      "cell_type": "code",
      "source": [
        "c = 1\n",
        "for i in all_file_paths[2500:]:\n",
        "    print (str(c) + ' :: loading ... : ' + i)\n",
        "    get_res(i)\n",
        "    c=c+1"
      ],
      "execution_count": 0,
      "outputs": []
    }
  ]
}